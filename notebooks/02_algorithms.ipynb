{
 "cells": [
  {
   "cell_type": "markdown",
   "metadata": {},
   "source": [
    "## Scala Basics\n",
    "\n",
    "By: Alex Comerford (alexanderjcomerford@gmail.com)\n",
    "\n",
    "In this notebook we will be going over all the simple simple algorithms in scala along with examples"
   ]
  },
  {
   "cell_type": "markdown",
   "metadata": {},
   "source": [
    "## Binary search\n",
    "\n",
    "This is a fundamental algorithm which searches through a sequence of sorted integers by partitioning the entire sequence into 2, doing a single comparison, then repeating until 1 element remains. This is awesome because at most this search does *O* (log n) comparisons"
   ]
  },
  {
   "cell_type": "code",
   "execution_count": 44,
   "metadata": {},
   "outputs": [
    {
     "data": {
      "text/plain": [
       "89"
      ]
     },
     "execution_count": 44,
     "metadata": {},
     "output_type": "execute_result"
    }
   ],
   "source": [
    "import scala.util.Try\n",
    "\n",
    "// utility function to generate a random list of ordered numbers\n",
    "def sampleRemove[A](itms:List[A], remove:Int) = {\n",
    "    def collect(vect: Vector[A], sampleSize: Int, acc : List[A]) : Vector[A] = {\n",
    "        if (sampleSize == 0) {\n",
    "            vect\n",
    "        } else if (vect.length == 0) {\n",
    "            vect\n",
    "        } else {\n",
    "            val index = Random.nextInt(vect.size)\n",
    "            collect( vect.patch(index, Nil, 1), sampleSize - 1, vect(index) :: acc)\n",
    "        }\n",
    "    }\n",
    "    collect(itms toVector, remove, Nil)\n",
    "}\n",
    "\n",
    "// num to search, all nums\n",
    "def search(k: Int, a: Seq[Int]) = {\n",
    "    @annotation.tailrec\n",
    "    def search2(lo: Int, mid: Int, hi: Int): Int = {\n",
    "      Try(a(mid)).toOption match {\n",
    "        case Some(x) if lo > hi => -1\n",
    "        case Some(x) if x == k => mid\n",
    "        case Some(x) if x > k => search2(lo, (mid - lo) / 2, mid - 1)\n",
    "        case Some(x) if x < k => search2(mid + 1, mid + 1 + (hi - mid) / 2, hi)\n",
    "        case None => -1\n",
    "      }\n",
    "    }\n",
    "    search2(0, a.length / 2, a.length - 1)\n",
    "}\n",
    "\n",
    "search(90, 1 to 100 toList)"
   ]
  },
  {
   "cell_type": "code",
   "execution_count": null,
   "metadata": {},
   "outputs": [],
   "source": []
  },
  {
   "cell_type": "code",
   "execution_count": null,
   "metadata": {},
   "outputs": [],
   "source": []
  }
 ],
 "metadata": {
  "kernelspec": {
   "display_name": "Scala",
   "language": "scala",
   "name": "scala"
  },
  "language_info": {
   "codemirror_mode": "text/x-scala",
   "file_extension": ".scala",
   "mimetype": "",
   "name": "Scala",
   "nbconverter_exporter": "",
   "version": "2.11.12"
  },
  "toc": {
   "base_numbering": 1,
   "nav_menu": {},
   "number_sections": false,
   "sideBar": false,
   "skip_h1_title": false,
   "title_cell": "Table of Contents",
   "title_sidebar": "Contents",
   "toc_cell": false,
   "toc_position": {},
   "toc_section_display": false,
   "toc_window_display": false
  }
 },
 "nbformat": 4,
 "nbformat_minor": 2
}
