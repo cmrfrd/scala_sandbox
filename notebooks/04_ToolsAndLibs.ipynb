{
 "cells": [
  {
   "cell_type": "markdown",
   "metadata": {},
   "source": [
    "## Tools And Libs\n",
    "\n",
    "By: Alex Comerford (alexanderjcomerford@gmail.com)\n",
    "\n",
    "In this notebook we will be going over a bunch of tools and libraries commonly used in scala to do actual useful work for common software tasks."
   ]
  },
  {
   "cell_type": "markdown",
   "metadata": {},
   "source": [
    "## Multi line string tokenization\n",
    "\n",
    "A common problem in NLP is tokenization of text. In this next cell we will implement a multiline word tokenizer extractor to parse multi line strings into a list of words, then count those words in a table."
   ]
  },
  {
   "cell_type": "code",
   "execution_count": null,
   "metadata": {},
   "outputs": [],
   "source": [
    "object MultiLineTokenize {\n",
    "    def apply(s: String): Any = \n",
    "        s.split(\"\\n\")\n",
    "         .toList\n",
    "         .map(_.trim)\n",
    "         .filter(_ != \"\")\n",
    "         .map(_.split(\" \").toList)\n",
    "}\n",
    "\n",
    "def flatten(e: Any): List[Any] = {\n",
    "    e match {\n",
    "        case Nil => Nil\n",
    "        case head :: rest => flatten(head) ++ flatten(rest)\n",
    "        case v => List(v)\n",
    "    }\n",
    "}\n",
    "\n",
    "val input = \"\"\"\n",
    "This is a thing\n",
    "sentences are yay\n",
    "I like potatoes\n",
    "They are much yum\n",
    "\"\"\"\n",
    "flatten(MultiLineTokenize(input)).groupBy(identity).mapValues(_.size)"
   ]
  },
  {
   "cell_type": "markdown",
   "metadata": {},
   "source": [
    "## Writing and reading to a file\n",
    "\n",
    "In this next cell we will go over a fundamental programming exercise, reading and writing to a file."
   ]
  },
  {
   "cell_type": "code",
   "execution_count": null,
   "metadata": {},
   "outputs": [],
   "source": [
    "import java.io._\n",
    "import scala.io.Source\n",
    "\n",
    "val filename = \"file.txt\"\n",
    "val file = new File(filename)\n",
    "\n",
    "// Use java bufferwriter to write text to file\n",
    "val bw = new BufferedWriter(new FileWriter(file))\n",
    "bw.write(\n",
    "\"\"\"\n",
    "potato\n",
    "tomato\n",
    "apple\n",
    "\"\"\")\n",
    "bw.close()\n",
    "\n",
    "// print contents of file\n",
    "for (line <- Source.fromFile(filename).getLines) {\n",
    "    println(line)\n",
    "}\n",
    "\n",
    "// create file monad \n",
    "implicit class FileMonads(f: File) {\n",
    "  def check = if (f.exists) Some(f) else None\n",
    "  def remove = if (f.delete()) Some(f) else None\n",
    "}\n",
    "\n",
    "// use match case to delete file\n",
    "file check match {\n",
    "    case Some(a) => {\n",
    "        file remove;\n",
    "        println(s\"File $a deleted!\")\n",
    "    }\n",
    "    case _ => {\n",
    "        println(\"File Not found\")\n",
    "    }\n",
    "}"
   ]
  },
  {
   "cell_type": "markdown",
   "metadata": {},
   "source": [
    "## Executing system commands"
   ]
  },
  {
   "cell_type": "code",
   "execution_count": null,
   "metadata": {},
   "outputs": [],
   "source": [
    "import sys.process._\n",
    "\n",
    "println(\"ls -al\".!!)\n",
    "\n",
    "// Multiple commands piping\n",
    "val procs = (\"ps a\" #| \"wc -l\").!!.trim\n",
    "println(s\"procs = $procs\")\n",
    "\n",
    "// multiple command piping in shell\n",
    "val files = Seq(\"/bin/sh\", \"-c\", \"ls | grep .ipynb\").!!\n",
    "println(files)"
   ]
  },
  {
   "cell_type": "markdown",
   "metadata": {},
   "source": [
    "## Concurrency!\n",
    "\n",
    "This is the section I am most excited about. Scala is very well known for its concurrency model. Scala uses the actor model unlike golang CSP concurrency or others\n",
    "\n",
    "We will be using the `akka` framework for these next examples.\n",
    "\n",
    "We will install all of these dependencies using the `%%classpath` magic"
   ]
  },
  {
   "cell_type": "code",
   "execution_count": 2,
   "metadata": {},
   "outputs": [
    {
     "data": {
      "application/vnd.jupyter.widget-view+json": {
       "model_id": "",
       "version_major": 2,
       "version_minor": 0
      },
      "method": "display_data"
     },
     "metadata": {},
     "output_type": "display_data"
    },
    {
     "data": {
      "application/vnd.jupyter.widget-view+json": {
       "model_id": "c4f859c4-5bc4-4b2f-bdb6-9a28f3a7bb8b",
       "version_major": 2,
       "version_minor": 0
      },
      "method": "display_data"
     },
     "metadata": {},
     "output_type": "display_data"
    }
   ],
   "source": [
    "%%classpath add mvn\n",
    "com.typesafe.akka akka-actor_2.11 2.5.17\n",
    "com.typesafe.akka akka-stream_2.11 2.5.17"
   ]
  },
  {
   "cell_type": "markdown",
   "metadata": {},
   "source": [
    "### Simple actor\n",
    "\n",
    "In this next cell we will create a simple akka actor that prints to the console when recieving a message"
   ]
  },
  {
   "cell_type": "code",
   "execution_count": 3,
   "metadata": {},
   "outputs": [
    {
     "name": "stdout",
     "output_type": "stream",
     "text": [
      "hello from Fred\n",
      "'huh?', said Fred\n"
     ]
    },
    {
     "data": {
      "text/plain": [
       "null"
      ]
     },
     "execution_count": 3,
     "metadata": {},
     "output_type": "execute_result"
    }
   ],
   "source": [
    "import akka.actor._\n",
    "\n",
    "class HelloActor(myName: String) extends Actor {\n",
    "    def receive = {\n",
    "        case \"hello\" => println(s\"hello from $myName\")\n",
    "        case _       => println(s\"'huh?', said $myName\")\n",
    "    }\n",
    "}\n",
    "\n",
    "// creat system and actor\n",
    "val system = ActorSystem(\"HelloSystem\")\n",
    "val helloActor = system.actorOf(Props(new HelloActor(\"Fred\")), name = \"helloactor\")\n",
    "\n",
    "// say hello then hello\n",
    "helloActor ! \"hello\"\n",
    "helloActor ! \"buenos dias\""
   ]
  },
  {
   "cell_type": "markdown",
   "metadata": {},
   "source": [
    "### Telling and Asking\n",
    "\n",
    "One important concept that is describe in the [docs](https://doc.akka.io/docs/akka/2.4.1/scala/actors.html#Send%20messages) is the idea of how to send messages. Below is an example of sending messages via \"fire and forget\" or \"telling\" (similar to like UDP) vs asynchronous messages and returning a future."
   ]
  },
  {
   "cell_type": "code",
   "execution_count": 12,
   "metadata": {},
   "outputs": [
    {
     "name": "stdout",
     "output_type": "stream",
     "text": [
      "Telling 'Hello' to Actor[akka://AskTellMessageSystem/user/Tell/$a#1548639949]\n",
      "Asking 'Hello' to Actor[akka://AskTellMessageSystem/user/Ask/$a#-1593294270]\n",
      "From $line39.$read$$iw$$iw$$iw$$iw$AskActor@5e4bffb7: And Hello to you!\n",
      "From $line39.$read$$iw$$iw$$iw$$iw$TellActor@663f50ed: And Hello to you!\n"
     ]
    },
    {
     "ename": "warning",
     "evalue": " there were two feature warnings; re-run with -feature for details",
     "output_type": "error",
     "traceback": [
      "\u001b[1;31mwarning: there were two feature warnings; re-run with -feature for details\u001b[0;0m",
      "\u001b[1;31mjava.util.concurrent.TimeoutException: Futures timed out after [2 seconds]\u001b[0;0m",
      "\u001b[1;31m  at scala.concurrent.impl.Promise$DefaultPromise.ready(Promise.scala:223)\u001b[0;0m",
      "\u001b[1;31m  at scala.concurrent.impl.Promise$DefaultPromise.ready(Promise.scala:157)\u001b[0;0m",
      "\u001b[1;31m  at scala.concurrent.Await$$anonfun$ready$1.apply(package.scala:169)\u001b[0;0m",
      "\u001b[1;31m  at scala.concurrent.Await$$anonfun$ready$1.apply(package.scala:169)\u001b[0;0m",
      "\u001b[1;31m  at scala.concurrent.BlockContext$DefaultBlockContext$.blockOn(BlockContext.scala:53)\u001b[0;0m",
      "\u001b[1;31m  at scala.concurrent.Await$.ready(package.scala:169)\u001b[0;0m",
      "\u001b[1;31m  ... 30 elided\u001b[0;0m"
     ]
    }
   ],
   "source": [
    "import akka.actor.{Props, Actor}\n",
    "import scala.concurrent.duration._\n",
    "import scala.concurrent.ExecutionContext.Implicits.global\n",
    "import scala.concurrent.{ Future, Promise, Await }\n",
    "import akka.pattern.ask\n",
    "import akka.util.Timeout\n",
    "\n",
    "/*\n",
    " * TellActor uses the ! operator to tell message \n",
    " * the ReceiveActor. TellActor also can recieve\n",
    " * messages and pring to console\n",
    " */\n",
    "class TellActor extends Actor {\n",
    "  val recipient = context.actorOf(Props(new ReceiveActor()))\n",
    "  def receive = {\n",
    "    case \"Start\" =>\n",
    "      println(s\"Telling 'Hello' to $recipient\")\n",
    "      recipient ! \"Hello\" // equivalent to recipient.tell(\"hello\", self)\n",
    "    case reply => println(s\"From $this: $reply\")\n",
    "  }\n",
    "} \n",
    "\n",
    "/*\n",
    " * AskActor uses the ? operator to ask message \n",
    " * the ReceiveActor and wait for response. \n",
    " * AskActor also can recieve\n",
    " * messages and pring to console\n",
    " */\n",
    "class AskActor extends Actor {\n",
    "  val recipient = context.actorOf(Props(new ReceiveActor()))\n",
    "  def receive = {\n",
    "    case \"Start\" =>\n",
    "      println(s\"Asking 'Hello' to $recipient\")\n",
    "      implicit val timeout = Timeout(10 seconds)\n",
    "      val replyF = recipient ? \"Hello\" // equivalent to recipient.ask(\"Hello\")\n",
    "      replyF.onSuccess{\n",
    "        case reply => println(s\"From $this: $reply\")\n",
    "      }\n",
    "  }\n",
    "}\n",
    "\n",
    "/*\n",
    " * ReceiveActor recieves messages and relays to sender \n",
    " */\n",
    "class ReceiveActor extends Actor {\n",
    "  def receive = {\n",
    "    case \"Hello\" => sender ! \"And Hello to you!\"\n",
    "  }\n",
    "}\n",
    "\n",
    "val system = ActorSystem(\"AskTellMessageSystem\")\n",
    "val tellActor = system.actorOf(Props(new TellActor()), name = \"Tell\")\n",
    "val askActor = system.actorOf(Props(new AskActor()), name = \"Ask\")\n",
    "tellActor ! \"Start\"\n",
    "askActor ! \"Start\"\n",
    "Await.ready(system.whenTerminated, 2 seconds)"
   ]
  },
  {
   "cell_type": "markdown",
   "metadata": {},
   "source": [
    "### Back and forth\n",
    "\n",
    "An important feature of the actor model for concurrent and distributed systems is message passing between actors. In this next example similar to the famous Java Ping Pong Threading example we will redefine in scala using akka actors"
   ]
  },
  {
   "cell_type": "code",
   "execution_count": 5,
   "metadata": {},
   "outputs": [
    {
     "name": "stdout",
     "output_type": "stream",
     "text": [
      "ping 0\n",
      "  pong 0\n",
      "ping 1\n",
      "  pong 1\n",
      "ping 2\n",
      "  pong 2\n",
      "ping 3\n",
      "  pong 3\n",
      "ping 4\n",
      "  pong 4\n",
      "ping 5\n",
      "  pong 5\n",
      "ping 6\n",
      "  pong 6\n",
      "ping 7\n",
      "  pong 7\n",
      "ping 8\n",
      "  pong 8\n",
      "ping 9\n",
      "  pong 9\n",
      "ping 10\n",
      "ping stopped\n",
      "pong stopped\n"
     ]
    },
    {
     "data": {
      "text/plain": [
       "null"
      ]
     },
     "execution_count": 5,
     "metadata": {},
     "output_type": "execute_result"
    }
   ],
   "source": [
    "import akka.actor._\n",
    "\n",
    "// Define message case objects\n",
    "case object PingMessage\n",
    "case object PongMessage\n",
    "case object StartMessage\n",
    "case object StopMessage\n",
    "\n",
    "/*\n",
    " * Ping Actor class on recieving will  \n",
    " *\n",
    " */\n",
    "class Ping(pong: ActorRef, maxPong: Int = 10) extends Actor {\n",
    "  var count = 0\n",
    "  def incrementAndPrint { println(s\"ping $count\"); count += 1 }\n",
    "  def receive = {\n",
    "    case StartMessage =>\n",
    "        incrementAndPrint\n",
    "        pong ! PingMessage\n",
    "    case PongMessage => \n",
    "        incrementAndPrint\n",
    "        if (count > maxPong) {\n",
    "          sender ! StopMessage\n",
    "          println(\"ping stopped\")\n",
    "          context.stop(self)\n",
    "        } else {\n",
    "          sender ! PingMessage\n",
    "        }\n",
    "  }\n",
    "}\n",
    "\n",
    "class Pong extends Actor {\n",
    "  var count = 0\n",
    "  def receive = {\n",
    "    case PingMessage =>\n",
    "        println(s\"  pong $count\")\n",
    "        count+=1\n",
    "        sender ! PongMessage\n",
    "    case StopMessage =>\n",
    "        println(\"pong stopped\")\n",
    "        context.stop(self)\n",
    "  }\n",
    "}\n",
    "\n",
    "val system = ActorSystem(\"PingPongSystem\")\n",
    "val pong = system.actorOf(Props(new Pong()), name = \"pong\")\n",
    "val ping = system.actorOf(Props(new Ping(pong)), name = \"ping\")\n",
    "ping ! StartMessage"
   ]
  },
  {
   "cell_type": "markdown",
   "metadata": {},
   "source": [
    "## Lifecycle actors\n",
    "\n",
    "There are several lifecycle methods associated with an actor in akka.\n",
    "* preStart\n",
    "* postStop\n",
    "* preRestart\n",
    "* postRestart\n",
    "* recieve"
   ]
  },
  {
   "cell_type": "code",
   "execution_count": 20,
   "metadata": {},
   "outputs": [
    {
     "name": "stdout",
     "output_type": "stream",
     "text": [
      "sending kenny a simple String message\n",
      "Entering Kenny constructor\n",
      "kenny: preStart\n",
      "Kenny received a message\n",
      "make kenny restart\n",
      "kenny: preRestart\n",
      "[ERROR] [10/11/2018 18:42:11.514] [LifecycleDemo-akka.actor.default-dispatcher-8] [akka://LifecycleDemo/user/Kenny] Boom!\n",
      "java.lang.Exception: Boom!\n",
      "\tat $line54.$read$$iw$$iw$$iw$$iw$Kenny$$anonfun$receive$1.applyOrElse(<console>:44)\n",
      "\tat akka.actor.Actor$class.aroundReceive(Actor.scala:517)\n",
      "\tat $line54.$read$$iw$$iw$$iw$$iw$Kenny.aroundReceive(<console>:28)\n",
      "\tat akka.actor.ActorCell.receiveMessage(ActorCell.scala:588)\n",
      "\tat akka.actor.ActorCell.invoke(ActorCell.scala:557)\n",
      "\tat akka.dispatch.Mailbox.processMailbox(Mailbox.scala:258)\n",
      "\tat akka.dispatch.Mailbox.run(Mailbox.scala:225)\n",
      "\tat akka.dispatch.Mailbox.exec(Mailbox.scala:235)\n",
      "\tat akka.dispatch.forkjoin.ForkJoinTask.doExec(ForkJoinTask.java:260)\n",
      "\tat akka.dispatch.forkjoin.ForkJoinPool$WorkQueue.runTask(ForkJoinPool.java:1339)\n",
      "\tat akka.dispatch.forkjoin.ForkJoinPool.runWorker(ForkJoinPool.java:1979)\n",
      "\tat akka.dispatch.forkjoin.ForkJoinWorkerThread.run(ForkJoinWorkerThread.java:107)\n",
      "\n",
      " MESSAGE: ForceRestart\n",
      " REASON: Boom!\n",
      "kenny: postStop\n",
      "Entering Kenny constructor\n",
      "kenny: postRestart\n",
      " REASON: Boom!\n",
      "kenny: preStart\n",
      "stopping kenny\n",
      "shutting down system\n",
      "kenny: postStop\n"
     ]
    },
    {
     "data": {
      "text/plain": [
       "Future(Success(Terminated(Actor[akka://LifecycleDemo/])))"
      ]
     },
     "execution_count": 20,
     "metadata": {},
     "output_type": "execute_result"
    }
   ],
   "source": [
    "import akka.actor._\n",
    "import akka.actor.{Props, Actor}\n",
    "import scala.concurrent.duration._\n",
    "import scala.concurrent.ExecutionContext.Implicits.global\n",
    "import scala.concurrent.{ Future, Promise, Await }\n",
    "import akka.pattern.ask\n",
    "import akka.util.Timeout\n",
    "\n",
    "class Kenny extends Actor {\n",
    "    println(\"Entering Kenny constructor\")\n",
    "    override def preStart { println(\"kenny: preStart\") }\n",
    "    override def postStop { println(\"kenny: postStop\") }\n",
    "    override def preRestart(reason: Throwable, message: Option[Any]) {\n",
    "        println(\"kenny: preRestart\")\n",
    "        println(s\" MESSAGE: ${message.getOrElse(\"\")}\")\n",
    "        println(s\" REASON: ${reason.getMessage}\")\n",
    "        super.preRestart(reason, message)\n",
    "    }\n",
    "    override def postRestart(reason: Throwable) {\n",
    "        println(\"kenny: postRestart\")\n",
    "        println(s\" REASON: ${reason.getMessage}\")\n",
    "        super.postRestart(reason)\n",
    "    }\n",
    "    def receive = {\n",
    "        case ForceRestart => throw new Exception(\"Boom!\")\n",
    "        case _ => println(\"Kenny received a message\")\n",
    "    }\n",
    "}\n",
    "\n",
    "case object ForceRestart\n",
    "\n",
    "val system = ActorSystem(\"LifecycleDemo\")\n",
    "val kenny = system.actorOf(Props(new Kenny()), name = \"Kenny\")\n",
    "\n",
    "println(\"sending kenny a simple String message\")\n",
    "kenny ! \"hello\"\n",
    "Thread.sleep(1000)\n",
    "\n",
    "println(\"make kenny restart\")\n",
    "kenny ! ForceRestart\n",
    "Thread.sleep(1000)\n",
    "\n",
    "println(\"stopping kenny\")\n",
    "system.stop(kenny)\n",
    "\n",
    "println(\"shutting down system\")\n",
    "\n",
    "system.terminate()"
   ]
  },
  {
   "cell_type": "markdown",
   "metadata": {},
   "source": [
    "## Concurrent sleeping\n",
    "\n",
    "In this next example we will create an example future. Futures are really easy to construct, all we need to do is use the future trait with a code block which will execute when it wants. In this case we will sleep for 500 milliseconds asynchronously and return the 42 value which should be printed in the middle of all the other print statements"
   ]
  },
  {
   "cell_type": "code",
   "execution_count": 29,
   "metadata": {},
   "outputs": [
    {
     "name": "stdout",
     "output_type": "stream",
     "text": [
      "starting calculation ...\n",
      "before onComplete\n",
      "1 ...\n",
      "2 ...\n",
      "3 ...\n",
      "4 ...\n",
      "5 ...\n",
      "Got the callback, meaning = 42\n",
      "6 ...\n"
     ]
    },
    {
     "data": {
      "text/plain": [
       "null"
      ]
     },
     "execution_count": 29,
     "metadata": {},
     "output_type": "execute_result"
    }
   ],
   "source": [
    "import scala.concurrent.{Future}\n",
    "import scala.concurrent.ExecutionContext.Implicits.global\n",
    "import scala.util.{Failure, Success}\n",
    "import scala.util.Random\n",
    "\n",
    "def sleep(time: Long) { Thread.sleep(time) }\n",
    "\n",
    "println(\"starting calculation ...\")\n",
    "val f = Future {\n",
    "    sleep(500)\n",
    "    42\n",
    "}\n",
    "println(\"before onComplete\")\n",
    "f.onComplete {\n",
    "    case Success(value) => println(s\"Got the callback, meaning = $value\")\n",
    "    case Failure(e) => e.printStackTrace\n",
    "}\n",
    "// do the rest of your work\n",
    "println(\"1 ...\"); sleep(100)\n",
    "println(\"2 ...\"); sleep(100)\n",
    "println(\"3 ...\"); sleep(100)\n",
    "println(\"4 ...\"); sleep(100)\n",
    "println(\"5 ...\"); sleep(100)\n",
    "println(\"6 ...\"); sleep(100)\n",
    "sleep(2000)"
   ]
  },
  {
   "cell_type": "markdown",
   "metadata": {},
   "source": [
    "## Parallel Collections\n",
    "\n",
    "Low level parallelization can be extremely messy and complex. In the scala standard library parallel collections have been designed to be easy and high level! \n",
    "\n",
    "From https://docs.scala-lang.org/overviews/parallel-collections/overview.html\n",
    "\n",
    "```\n",
    "\"The hope was, and still is, that implicit parallelism behind a collections abstraction will bring reliable parallel execution one step closer to the workflow of mainstream developers\"\n",
    "```\n",
    "\n",
    "Below I will show a few examples of parallel and non parallel operations and show their performance, fall backs, and benefits!"
   ]
  },
  {
   "cell_type": "markdown",
   "metadata": {},
   "source": [
    "### Simple performance\n",
    "\n",
    "Below we use jupyters `%time` magic to compare parallelization between map operations on lists"
   ]
  },
  {
   "cell_type": "code",
   "execution_count": 169,
   "metadata": {},
   "outputs": [
    {
     "name": "stdout",
     "output_type": "stream",
     "text": [
      "Non Parallel\n",
      "CPU times: user 0 ns, sys: 254 µs, total: 254 µs \n",
      "Wall Time: 1 s\n",
      "\n",
      "Parallel\n",
      "CPU times: user 0 ns, sys: 227 µs, total: 227 µs \n",
      "Wall Time: 1 s\n",
      "\n",
      "fin\n"
     ]
    },
    {
     "data": {
      "text/plain": [
       "null"
      ]
     },
     "execution_count": 169,
     "metadata": {},
     "output_type": "execute_result"
    }
   ],
   "source": [
    "val list = (1 to 80000).toList;\n",
    "\n",
    "println(\"Non Parallel\")\n",
    "%time list.map(_ + 42)\n",
    "\n",
    "println(\"Parallel\")\n",
    "%time list.par.map(_ + 42)\n",
    "\n",
    "println(\"fin\")"
   ]
  },
  {
   "cell_type": "markdown",
   "metadata": {},
   "source": [
    "## Side-Effecting Operations\n",
    "\n",
    "An interesting concequence of parallelized collections in scala are race conditions. This means that the threads spawned by scala will be accessing (read/write) the same data potentially overwriting / losing a previous result.\n",
    "\n",
    "In the next cell we will demonstate this by first synchronously summing a list of numbers, then parallelizing that same summing operation which results in several operations overwriting eachother accessing older sum values resulting in our final value to be less than the true value "
   ]
  },
  {
   "cell_type": "code",
   "execution_count": 175,
   "metadata": {},
   "outputs": [
    {
     "name": "stdout",
     "output_type": "stream",
     "text": [
      "500500\n",
      "497189\n",
      "484631\n",
      "472256\n",
      "fin\n"
     ]
    },
    {
     "data": {
      "text/plain": [
       "null"
      ]
     },
     "execution_count": 175,
     "metadata": {},
     "output_type": "execute_result"
    }
   ],
   "source": [
    "var sum = 0\n",
    "val list = (1 to 1000).toList\n",
    "list.foreach(sum += _); println(sum)\n",
    "sum = 0\n",
    "list.par.foreach(sum += _); println(sum)\n",
    "sum = 0\n",
    "list.par.foreach(sum += _); println(sum)\n",
    "sum = 0\n",
    "list.par.foreach(sum += _); println(sum)\n",
    "println(\"fin\")"
   ]
  },
  {
   "cell_type": "markdown",
   "metadata": {},
   "source": [
    "### Non-Associative Operations\n",
    "\n",
    "This \"out of order\" semantics also applies to non associative operations. The programmer must be sure to design their parallel execution such that to avoid non deterministic outputs.\n",
    "\n",
    "Below is that example of a non deterministic non associate operation that should not be used in certain capacities is subtraction"
   ]
  },
  {
   "cell_type": "code",
   "execution_count": 183,
   "metadata": {},
   "outputs": [
    {
     "name": "stdout",
     "output_type": "stream",
     "text": [
      "-500498\n",
      "-301748\n",
      "-46000\n",
      "0\n"
     ]
    },
    {
     "data": {
      "text/plain": [
       "null"
      ]
     },
     "execution_count": 183,
     "metadata": {},
     "output_type": "execute_result"
    }
   ],
   "source": [
    "val list = (1 to 1000).toList\n",
    "\n",
    "println(list.reduce(_-_))\n",
    "println(list.par.reduce(_-_))\n",
    "println(list.par.reduce(_-_))\n",
    "println(list.par.reduce(_-_))"
   ]
  },
  {
   "cell_type": "code",
   "execution_count": null,
   "metadata": {},
   "outputs": [],
   "source": []
  }
 ],
 "metadata": {
  "kernelspec": {
   "display_name": "Scala",
   "language": "scala",
   "name": "scala"
  },
  "language_info": {
   "codemirror_mode": "text/x-scala",
   "file_extension": ".scala",
   "mimetype": "",
   "name": "Scala",
   "nbconverter_exporter": "",
   "version": "2.11.12"
  },
  "toc": {
   "base_numbering": 1,
   "nav_menu": {},
   "number_sections": false,
   "sideBar": false,
   "skip_h1_title": false,
   "title_cell": "Table of Contents",
   "title_sidebar": "Contents",
   "toc_cell": false,
   "toc_position": {},
   "toc_section_display": false,
   "toc_window_display": false
  }
 },
 "nbformat": 4,
 "nbformat_minor": 2
}
