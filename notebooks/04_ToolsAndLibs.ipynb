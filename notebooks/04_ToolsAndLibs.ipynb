{
 "cells": [
  {
   "cell_type": "markdown",
   "metadata": {},
   "source": [
    "## Tools And Libs\n",
    "\n",
    "By: Alex Comerford (alexanderjcomerford@gmail.com)\n",
    "\n",
    "In this notebook we will be going over a bunch of tools and libraries commonly used in scala to do actual useful work for common software tasks."
   ]
  },
  {
   "cell_type": "markdown",
   "metadata": {},
   "source": [
    "## Multi line string tokenization\n",
    "\n",
    "A common problem in NLP is tokenization of text. In this next cell we will implement a multiline word tokenizer extractor to parse multi line strings into a list of words, then count those words in a table."
   ]
  },
  {
   "cell_type": "code",
   "execution_count": 1,
   "metadata": {},
   "outputs": [
    {
     "data": {
      "application/vnd.jupyter.widget-view+json": {
       "model_id": "9f120f17-209b-46c4-a618-1569f3dfd21c",
       "version_major": 2,
       "version_minor": 0
      },
      "method": "display_data"
     },
     "metadata": {},
     "output_type": "display_data"
    }
   ],
   "source": [
    "object MultiLineTokenize {\n",
    "    def apply(s: String): Any = \n",
    "        s.split(\"\\n\")\n",
    "         .toList\n",
    "         .map(_.trim)\n",
    "         .filter(_ != \"\")\n",
    "         .map(_.split(\" \").toList)\n",
    "}\n",
    "\n",
    "def flatten(e: Any): List[Any] = {\n",
    "    e match {\n",
    "        case Nil => Nil\n",
    "        case head :: rest => flatten(head) ++ flatten(rest)\n",
    "        case v => List(v)\n",
    "    }\n",
    "}\n",
    "\n",
    "val input = \"\"\"\n",
    "This is a thing\n",
    "sentences are yay\n",
    "I like potatoes\n",
    "They are much yum\n",
    "\"\"\"\n",
    "flatten(MultiLineTokenize(input)).groupBy(identity).mapValues(_.size)"
   ]
  },
  {
   "cell_type": "markdown",
   "metadata": {},
   "source": [
    "## Writing and reading to a file\n",
    "\n",
    "In this next cell we will go over a fundamental programming exercise, reading and writing to a file."
   ]
  },
  {
   "cell_type": "code",
   "execution_count": 2,
   "metadata": {},
   "outputs": [
    {
     "name": "stdout",
     "output_type": "stream",
     "text": [
      "\n",
      "potato\n",
      "tomato\n",
      "apple\n",
      "File file.txt deleted!\n"
     ]
    },
    {
     "data": {
      "text/plain": [
       "null"
      ]
     },
     "execution_count": 2,
     "metadata": {},
     "output_type": "execute_result"
    }
   ],
   "source": [
    "import java.io._\n",
    "import scala.io.Source\n",
    "\n",
    "val filename = \"file.txt\"\n",
    "val file = new File(filename)\n",
    "\n",
    "// Use java bufferwriter to write text to file\n",
    "val bw = new BufferedWriter(new FileWriter(file))\n",
    "bw.write(\n",
    "\"\"\"\n",
    "potato\n",
    "tomato\n",
    "apple\n",
    "\"\"\")\n",
    "bw.close()\n",
    "\n",
    "// print contents of file\n",
    "for (line <- Source.fromFile(filename).getLines) {\n",
    "    println(line)\n",
    "}\n",
    "\n",
    "// create file monad \n",
    "implicit class FileMonads(f: File) {\n",
    "  def check = if (f.exists) Some(f) else None\n",
    "  def remove = if (f.delete()) Some(f) else None\n",
    "}\n",
    "\n",
    "// use match case to delete file\n",
    "file check match {\n",
    "    case Some(a) => {\n",
    "        file remove;\n",
    "        println(s\"File $a deleted!\")\n",
    "    }\n",
    "    case _ => {\n",
    "        println(\"File Not found\")\n",
    "    }\n",
    "}"
   ]
  },
  {
   "cell_type": "markdown",
   "metadata": {},
   "source": [
    "## Executing system commands"
   ]
  },
  {
   "cell_type": "code",
   "execution_count": 3,
   "metadata": {},
   "outputs": [
    {
     "name": "stdout",
     "output_type": "stream",
     "text": [
      "total 124\n",
      "drwxrwxr-x. 3 beakerx beakerx  4096 Oct  3 19:32 .\n",
      "drwxrwxr-x. 4 beakerx beakerx  4096 Sep 19 21:18 ..\n",
      "-rw-r--r--. 1 root    root    70812 Sep 19 03:03 01_Basics.ipynb\n",
      "-rw-r--r--. 1 root    root    15484 Sep 20 03:59 02_Algorithms.ipynb\n",
      "-rw-r--r--. 1 root    root     6842 Sep 25 00:12 03_Collections.ipynb\n",
      "-rw-r--r--. 1 root    root    16332 Sep 29 20:17 04_ToolsAndLibs.ipynb\n",
      "drwxr-xr-x. 2 root    root     4096 Sep 24 19:01 .ipynb_checkpoints\n",
      "\n",
      "procs = 2\n",
      "01_Basics.ipynb\n",
      "02_Algorithms.ipynb\n",
      "03_Collections.ipynb\n",
      "04_ToolsAndLibs.ipynb\n",
      "\n"
     ]
    },
    {
     "data": {
      "text/plain": [
       "null"
      ]
     },
     "execution_count": 3,
     "metadata": {},
     "output_type": "execute_result"
    }
   ],
   "source": [
    "import sys.process._\n",
    "\n",
    "println(\"ls -al\".!!)\n",
    "\n",
    "// Multiple commands piping\n",
    "val procs = (\"ps a\" #| \"wc -l\").!!.trim\n",
    "println(s\"procs = $procs\")\n",
    "\n",
    "// multiple command piping in shell\n",
    "val files = Seq(\"/bin/sh\", \"-c\", \"ls | grep .ipynb\").!!\n",
    "println(files)"
   ]
  },
  {
   "cell_type": "markdown",
   "metadata": {},
   "source": [
    "## Concurrency!\n",
    "\n",
    "This is the section I am most excited about. Scala is very well known for its concurrency model. Scala uses the actor model unlike golang CSP concurrency or others\n",
    "\n",
    "We will be using the `akka` framework for these next examples.\n",
    "\n",
    "We will install all of these dependencies using the `%%classpath` magic"
   ]
  },
  {
   "cell_type": "code",
   "execution_count": null,
   "metadata": {},
   "outputs": [],
   "source": [
    "%%classpath add mvn\n",
    "org.apache.spark spark-sql_2.11 2.2.1\n",
    "org.apache.spark spark-mllib_2.11 2.2.1\n",
    "com.github.twosigma flint 6055a7a231\n",
    "com.typesafe.akka akka-actor_2.11 2.5.17\n",
    "com.typesafe.akka akka-stream_2.11 2.5.17"
   ]
  },
  {
   "cell_type": "markdown",
   "metadata": {},
   "source": [
    "### Simple actor\n",
    "\n",
    "In this next cell we will create a simple akka actor that prints to the console when recieving a message"
   ]
  },
  {
   "cell_type": "code",
   "execution_count": 108,
   "metadata": {},
   "outputs": [
    {
     "name": "stdout",
     "output_type": "stream",
     "text": [
      "hello from Fred\n",
      "'huh?', said Fred\n"
     ]
    },
    {
     "data": {
      "text/plain": [
       "null"
      ]
     },
     "execution_count": 108,
     "metadata": {},
     "output_type": "execute_result"
    }
   ],
   "source": [
    "import akka.actor._\n",
    "\n",
    "class HelloActor(myName: String) extends Actor {\n",
    "    def receive = {\n",
    "        case \"hello\" => println(s\"hello from $myName\")\n",
    "        case _       => println(s\"'huh?', said $myName\")\n",
    "    }\n",
    "}\n",
    "\n",
    "// creat system and actor\n",
    "val system = ActorSystem(\"HelloSystem\")\n",
    "val helloActor = system.actorOf(Props(new HelloActor(\"Fred\")), name = \"helloactor\")\n",
    "\n",
    "// say hello then hello\n",
    "helloActor ! \"hello\"\n",
    "helloActor ! \"buenos dias\""
   ]
  },
  {
   "cell_type": "markdown",
   "metadata": {},
   "source": [
    "### Telling and Asking\n",
    "\n",
    "One important concept that is describe in the [docs](https://doc.akka.io/docs/akka/2.4.1/scala/actors.html#Send%20messages) is the idea of how to send messages. Below is an example of sending messages via \"fire and forget\" or \"telling\" (similar to like UDP) vs asynchronous messages and returning a future."
   ]
  },
  {
   "cell_type": "code",
   "execution_count": 133,
   "metadata": {},
   "outputs": [
    {
     "name": "stdout",
     "output_type": "stream",
     "text": [
      "Telling 'Hello' to Actor[akka://AskTellMessageSystem/user/Tell/$a#1941189488]\n",
      "Asking 'Hello' to Actor[akka://AskTellMessageSystem/user/Ask/$a#-1142559845]\n",
      "From $line204.$read$$iw$$iw$$iw$$iw$TellActor@44d4e6f7: And Hello to you!\n",
      "From $line204.$read$$iw$$iw$$iw$$iw$AskActor@6bc3e4c4: And Hello to you!\n"
     ]
    },
    {
     "ename": "warning",
     "evalue": " there were two feature warnings; re-run with -feature for details",
     "output_type": "error",
     "traceback": [
      "\u001b[1;31mwarning: there were two feature warnings; re-run with -feature for details\u001b[0;0m",
      "\u001b[1;31mjava.util.concurrent.TimeoutException: Futures timed out after [2 seconds]\u001b[0;0m",
      "\u001b[1;31m  at scala.concurrent.impl.Promise$DefaultPromise.ready(Promise.scala:223)\u001b[0;0m",
      "\u001b[1;31m  at scala.concurrent.impl.Promise$DefaultPromise.ready(Promise.scala:157)\u001b[0;0m",
      "\u001b[1;31m  at scala.concurrent.Await$$anonfun$ready$1.apply(package.scala:169)\u001b[0;0m",
      "\u001b[1;31m  at scala.concurrent.Await$$anonfun$ready$1.apply(package.scala:169)\u001b[0;0m",
      "\u001b[1;31m  at scala.concurrent.BlockContext$DefaultBlockContext$.blockOn(BlockContext.scala:53)\u001b[0;0m",
      "\u001b[1;31m  at scala.concurrent.Await$.ready(package.scala:169)\u001b[0;0m",
      "\u001b[1;31m  ... 30 elided\u001b[0;0m"
     ]
    }
   ],
   "source": [
    "import akka.actor.{Props, Actor}\n",
    "import scala.concurrent.duration._\n",
    "import scala.concurrent.ExecutionContext.Implicits.global\n",
    "import scala.concurrent.{ Future, Promise, Await }\n",
    "import akka.pattern.ask\n",
    "import akka.util.Timeout\n",
    "\n",
    "/*\n",
    " * TellActor uses the ! operator to tell message \n",
    " * the ReceiveActor. TellActor also can recieve\n",
    " * messages and pring to console\n",
    " */\n",
    "class TellActor extends Actor {\n",
    "  val recipient = context.actorOf(Props(new ReceiveActor()))\n",
    "  def receive = {\n",
    "    case \"Start\" =>\n",
    "      println(s\"Telling 'Hello' to $recipient\")\n",
    "      recipient ! \"Hello\" // equivalent to recipient.tell(\"hello\", self)\n",
    "    case reply => println(s\"From $this: $reply\")\n",
    "  }\n",
    "} \n",
    "\n",
    "/*\n",
    " * AskActor uses the ? operator to ask message \n",
    " * the ReceiveActor and wait for response. \n",
    " * AskActor also can recieve\n",
    " * messages and pring to console\n",
    " */\n",
    "class AskActor extends Actor {\n",
    "  val recipient = context.actorOf(Props(new ReceiveActor()))\n",
    "  def receive = {\n",
    "    case \"Start\" =>\n",
    "      println(s\"Asking 'Hello' to $recipient\")\n",
    "      implicit val timeout = Timeout(10 seconds)\n",
    "      val replyF = recipient ? \"Hello\" // equivalent to recipient.ask(\"Hello\")\n",
    "      replyF.onSuccess{\n",
    "        case reply => println(s\"From $this: $reply\")\n",
    "      }\n",
    "  }\n",
    "}\n",
    "\n",
    "/*\n",
    " * ReceiveActor recieves messages and relays to sender \n",
    " */\n",
    "class ReceiveActor extends Actor {\n",
    "  def receive = {\n",
    "    case \"Hello\" => sender ! \"And Hello to you!\"\n",
    "  }\n",
    "}\n",
    "\n",
    "val system = ActorSystem(\"AskTellMessageSystem\")\n",
    "val tellActor = system.actorOf(Props(new TellActor()), name = \"Tell\")\n",
    "val askActor = system.actorOf(Props(new AskActor()), name = \"Ask\")\n",
    "tellActor ! \"Start\"\n",
    "askActor ! \"Start\"\n",
    "Await.ready(system.whenTerminated, 2 seconds)"
   ]
  },
  {
   "cell_type": "markdown",
   "metadata": {},
   "source": [
    "### Back and forth\n",
    "\n",
    "An important feature of the actor model for concurrent and distributed systems is message passing between actors. In this next example similar to the famous Java Ping Pong Threading example we will redefine in scala using akka actors"
   ]
  },
  {
   "cell_type": "code",
   "execution_count": 138,
   "metadata": {},
   "outputs": [
    {
     "name": "stdout",
     "output_type": "stream",
     "text": [
      "ping 0\n",
      "  pong 0\n",
      "ping 1\n",
      "  pong 1\n",
      "ping 2\n",
      "  pong 2\n",
      "ping 3\n",
      "  pong 3\n",
      "ping 4\n",
      "  pong 4\n",
      "ping 5\n",
      "  pong 5\n",
      "ping 6\n",
      "  pong 6\n",
      "ping 7\n",
      "  pong 7\n",
      "ping 8\n",
      "  pong 8\n",
      "ping 9\n",
      "  pong 9\n",
      "ping 10\n",
      "ping stopped\n",
      "pong stopped\n"
     ]
    },
    {
     "data": {
      "text/plain": [
       "null"
      ]
     },
     "execution_count": 138,
     "metadata": {},
     "output_type": "execute_result"
    }
   ],
   "source": [
    "import akka.actor._\n",
    "\n",
    "// Define message case objects\n",
    "case object PingMessage\n",
    "case object PongMessage\n",
    "case object StartMessage\n",
    "case object StopMessage\n",
    "\n",
    "/*\n",
    " * Ping Actor class on recieving will  \n",
    " *\n",
    " */\n",
    "class Ping(pong: ActorRef, maxPong: Int = 10) extends Actor {\n",
    "  var count = 0\n",
    "  def incrementAndPrint { println(s\"ping $count\"); count += 1 }\n",
    "  def receive = {\n",
    "    case StartMessage =>\n",
    "        incrementAndPrint\n",
    "        pong ! PingMessage\n",
    "    case PongMessage => \n",
    "        incrementAndPrint\n",
    "        if (count > maxPong) {\n",
    "          sender ! StopMessage\n",
    "          println(\"ping stopped\")\n",
    "          context.stop(self)\n",
    "        } else {\n",
    "          sender ! PingMessage\n",
    "        }\n",
    "  }\n",
    "}\n",
    "\n",
    "class Pong extends Actor {\n",
    "  var count = 0\n",
    "  def receive = {\n",
    "    case PingMessage =>\n",
    "        println(s\"  pong $count\")\n",
    "        count+=1\n",
    "        sender ! PongMessage\n",
    "    case StopMessage =>\n",
    "        println(\"pong stopped\")\n",
    "        context.stop(self)\n",
    "  }\n",
    "}\n",
    "\n",
    "val system = ActorSystem(\"PingPongSystem\")\n",
    "val pong = system.actorOf(Props(new Pong()), name = \"pong\")\n",
    "val ping = system.actorOf(Props(new Ping(pong)), name = \"ping\")\n",
    "ping ! StartMessage"
   ]
  },
  {
   "cell_type": "markdown",
   "metadata": {},
   "source": [
    "## Parallel Collections\n",
    "\n",
    "Low level parallelization can be extremely messy and complex. In the scala standard library parallel collections have been designed to be easy and high level! \n",
    "\n",
    "From https://docs.scala-lang.org/overviews/parallel-collections/overview.html\n",
    "\n",
    "```\n",
    "\"The hope was, and still is, that implicit parallelism behind a collections abstraction will bring reliable parallel execution one step closer to the workflow of mainstream developers\"\n",
    "```\n",
    "\n",
    "Below I will show a few examples of parallel and non parallel operations and show their performance, fall backs, and benefits!"
   ]
  },
  {
   "cell_type": "markdown",
   "metadata": {},
   "source": [
    "### Simple performance\n",
    "\n",
    "Below we use jupyters `%time` magic to compare parallelization between map operations on lists"
   ]
  },
  {
   "cell_type": "code",
   "execution_count": 169,
   "metadata": {},
   "outputs": [
    {
     "name": "stdout",
     "output_type": "stream",
     "text": [
      "Non Parallel\n",
      "CPU times: user 0 ns, sys: 254 µs, total: 254 µs \n",
      "Wall Time: 1 s\n",
      "\n",
      "Parallel\n",
      "CPU times: user 0 ns, sys: 227 µs, total: 227 µs \n",
      "Wall Time: 1 s\n",
      "\n",
      "fin\n"
     ]
    },
    {
     "data": {
      "text/plain": [
       "null"
      ]
     },
     "execution_count": 169,
     "metadata": {},
     "output_type": "execute_result"
    }
   ],
   "source": [
    "val list = (1 to 80000).toList;\n",
    "\n",
    "println(\"Non Parallel\")\n",
    "%time list.map(_ + 42)\n",
    "\n",
    "println(\"Parallel\")\n",
    "%time list.par.map(_ + 42)\n",
    "\n",
    "println(\"fin\")"
   ]
  },
  {
   "cell_type": "markdown",
   "metadata": {},
   "source": [
    "## Side-Effecting Operations\n",
    "\n",
    "An interesting concequence of parallelized collections in scala are race conditions. This means that the threads spawned by scala will be accessing (read/write) the same data potentially overwriting / losing a previous result.\n",
    "\n",
    "In the next cell we will demonstate this by first synchronously summing a list of numbers, then parallelizing that same summing operation which results in several operations overwriting eachother accessing older sum values resulting in our final value to be less than the true value "
   ]
  },
  {
   "cell_type": "code",
   "execution_count": 175,
   "metadata": {},
   "outputs": [
    {
     "name": "stdout",
     "output_type": "stream",
     "text": [
      "500500\n",
      "497189\n",
      "484631\n",
      "472256\n",
      "fin\n"
     ]
    },
    {
     "data": {
      "text/plain": [
       "null"
      ]
     },
     "execution_count": 175,
     "metadata": {},
     "output_type": "execute_result"
    }
   ],
   "source": [
    "var sum = 0\n",
    "val list = (1 to 1000).toList\n",
    "list.foreach(sum += _); println(sum)\n",
    "sum = 0\n",
    "list.par.foreach(sum += _); println(sum)\n",
    "sum = 0\n",
    "list.par.foreach(sum += _); println(sum)\n",
    "sum = 0\n",
    "list.par.foreach(sum += _); println(sum)\n",
    "println(\"fin\")"
   ]
  },
  {
   "cell_type": "markdown",
   "metadata": {},
   "source": [
    "### Non-Associative Operations\n",
    "\n",
    "This \"out of order\" semantics also applies to non associative operations. The programmer must be sure to design their parallel execution such that to avoid non deterministic outputs.\n",
    "\n",
    "Below is that example of a non deterministic non associate operation that should not be used in certain capacities is subtraction"
   ]
  },
  {
   "cell_type": "code",
   "execution_count": 183,
   "metadata": {},
   "outputs": [
    {
     "name": "stdout",
     "output_type": "stream",
     "text": [
      "-500498\n",
      "-301748\n",
      "-46000\n",
      "0\n"
     ]
    },
    {
     "data": {
      "text/plain": [
       "null"
      ]
     },
     "execution_count": 183,
     "metadata": {},
     "output_type": "execute_result"
    }
   ],
   "source": [
    "val list = (1 to 1000).toList\n",
    "\n",
    "println(list.reduce(_-_))\n",
    "println(list.par.reduce(_-_))\n",
    "println(list.par.reduce(_-_))\n",
    "println(list.par.reduce(_-_))"
   ]
  },
  {
   "cell_type": "code",
   "execution_count": null,
   "metadata": {},
   "outputs": [],
   "source": []
  }
 ],
 "metadata": {
  "kernelspec": {
   "display_name": "Scala",
   "language": "scala",
   "name": "scala"
  },
  "language_info": {
   "codemirror_mode": "text/x-scala",
   "file_extension": ".scala",
   "mimetype": "",
   "name": "Scala",
   "nbconverter_exporter": "",
   "version": "2.11.12"
  },
  "toc": {
   "base_numbering": 1,
   "nav_menu": {},
   "number_sections": false,
   "sideBar": false,
   "skip_h1_title": false,
   "title_cell": "Table of Contents",
   "title_sidebar": "Contents",
   "toc_cell": false,
   "toc_position": {},
   "toc_section_display": false,
   "toc_window_display": false
  }
 },
 "nbformat": 4,
 "nbformat_minor": 2
}
