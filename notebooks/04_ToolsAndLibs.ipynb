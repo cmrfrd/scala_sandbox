{
 "cells": [
  {
   "cell_type": "markdown",
   "metadata": {},
   "source": [
    "## Tools And Libs\n",
    "\n",
    "By: Alex Comerford (alexanderjcomerford@gmail.com)\n",
    "\n",
    "In this notebook we will be going over a bunch of tools and libraries commonly used in scala to do actual useful work for common software tasks."
   ]
  },
  {
   "cell_type": "markdown",
   "metadata": {},
   "source": [
    "## Multi line string tokenization\n",
    "\n",
    "A common problem in NLP is tokenization of text. In this next cell we will implement a multiline word tokenizer extractor to parse multi line strings into a list of words, then count those words in a table."
   ]
  },
  {
   "cell_type": "code",
   "execution_count": 1,
   "metadata": {},
   "outputs": [
    {
     "data": {
      "application/vnd.jupyter.widget-view+json": {
       "model_id": "f9d4b4ee-5f62-4263-88d2-3453e52958e7",
       "version_major": 2,
       "version_minor": 0
      },
      "method": "display_data"
     },
     "metadata": {},
     "output_type": "display_data"
    }
   ],
   "source": [
    "object MultiLineTokenize {\n",
    "    def apply(s: String): Any = \n",
    "        s.split(\"\\n\")\n",
    "         .toList\n",
    "         .map(_.trim)\n",
    "         .filter(_ != \"\")\n",
    "         .map(_.split(\" \").toList)\n",
    "}\n",
    "\n",
    "def flatten(e: Any): List[Any] = {\n",
    "    e match {\n",
    "        case Nil => Nil\n",
    "        case head :: rest => flatten(head) ++ flatten(rest)\n",
    "        case v => List(v)\n",
    "    }\n",
    "}\n",
    "\n",
    "val input = \"\"\"\n",
    "This is a thing\n",
    "sentences are yay\n",
    "I like potatoes\n",
    "They are much yum\n",
    "\"\"\"\n",
    "flatten(MultiLineTokenize(input)).groupBy(identity).mapValues(_.size)"
   ]
  },
  {
   "cell_type": "markdown",
   "metadata": {},
   "source": [
    "## Writing and reading to a file\n",
    "\n",
    "In this next cell we will go over a fundamental programming exercise, reading and writing to a file."
   ]
  },
  {
   "cell_type": "code",
   "execution_count": 48,
   "metadata": {},
   "outputs": [
    {
     "name": "stdout",
     "output_type": "stream",
     "text": [
      "\n",
      "potato\n",
      "tomato\n",
      "apple\n",
      "File file.txt deleted!\n"
     ]
    },
    {
     "data": {
      "text/plain": [
       "null"
      ]
     },
     "execution_count": 48,
     "metadata": {},
     "output_type": "execute_result"
    }
   ],
   "source": [
    "import java.io._\n",
    "import scala.io.Source\n",
    "\n",
    "val filename = \"file.txt\"\n",
    "val file = new File(filename)\n",
    "\n",
    "// Use java bufferwriter to write text to file\n",
    "val bw = new BufferedWriter(new FileWriter(file))\n",
    "bw.write(\n",
    "\"\"\"\n",
    "potato\n",
    "tomato\n",
    "apple\n",
    "\"\"\")\n",
    "bw.close()\n",
    "\n",
    "// print contents of file\n",
    "for (line <- Source.fromFile(filename).getLines) {\n",
    "    println(line)\n",
    "}\n",
    "\n",
    "// create file monad \n",
    "implicit class FileMonads(f: File) {\n",
    "  def check = if (f.exists) Some(f) else None\n",
    "  def remove = if (f.delete()) Some(f) else None\n",
    "}\n",
    "\n",
    "// use match case to delete file\n",
    "file check match {\n",
    "    case Some(a) => {\n",
    "        file remove;\n",
    "        println(s\"File $a deleted!\")\n",
    "    }\n",
    "    case _ => {\n",
    "        println(\"File Not found\")\n",
    "    }\n",
    "}"
   ]
  },
  {
   "cell_type": "markdown",
   "metadata": {},
   "source": [
    "## Executing system commands"
   ]
  },
  {
   "cell_type": "code",
   "execution_count": 59,
   "metadata": {},
   "outputs": [
    {
     "name": "stdout",
     "output_type": "stream",
     "text": [
      "total 120\n",
      "drwxrwxr-x. 3 beakerx beakerx  4096 Sep 24 23:53 .\n",
      "drwxrwxr-x. 4 beakerx beakerx  4096 Sep 19 21:18 ..\n",
      "-rw-r--r--. 1 root    root    70812 Sep 19 03:03 01_Basics.ipynb\n",
      "-rw-r--r--. 1 root    root    15484 Sep 20 03:59 02_Algorithms.ipynb\n",
      "-rw-r--r--. 1 root    root     6842 Sep 24 23:45 03_Collections.ipynb\n",
      "-rw-r--r--. 1 root    root     9484 Sep 24 23:53 04_ToolsAndLibs.ipynb\n",
      "drwxr-xr-x. 2 root    root     4096 Sep 24 19:01 .ipynb_checkpoints\n",
      "\n",
      "procs = 2\n",
      "01_Basics.ipynb\n",
      "02_Algorithms.ipynb\n",
      "03_Collections.ipynb\n",
      "04_ToolsAndLibs.ipynb\n",
      "\n"
     ]
    },
    {
     "data": {
      "text/plain": [
       "null"
      ]
     },
     "execution_count": 59,
     "metadata": {},
     "output_type": "execute_result"
    }
   ],
   "source": [
    "import sys.process._\n",
    "\n",
    "println(\"ls -al\".!!)\n",
    "\n",
    "// Multiple commands piping\n",
    "val procs = (\"ps a\" #| \"wc -l\").!!.trim\n",
    "println(s\"procs = $procs\")\n",
    "\n",
    "// multiple command piping in shell\n",
    "val files = Seq(\"/bin/sh\", \"-c\", \"ls | grep .ipynb\").!!\n",
    "println(files)"
   ]
  },
  {
   "cell_type": "markdown",
   "metadata": {},
   "source": [
    "## Concurrency!\n",
    "\n",
    "This is the section I am most excited about. Scala is very well known for its concurrency model. Scala uses the actor model unlike golang CSP concurrency or others\n",
    "\n",
    "We will be using the `akka` framework for these next examples"
   ]
  },
  {
   "cell_type": "code",
   "execution_count": null,
   "metadata": {},
   "outputs": [],
   "source": []
  },
  {
   "cell_type": "code",
   "execution_count": null,
   "metadata": {},
   "outputs": [],
   "source": []
  },
  {
   "cell_type": "code",
   "execution_count": null,
   "metadata": {},
   "outputs": [],
   "source": []
  },
  {
   "cell_type": "markdown",
   "metadata": {},
   "source": [
    "## SBT\n",
    "\n",
    "In the rest of this notebook we will be using sbt and other libraries to experiment around"
   ]
  },
  {
   "cell_type": "code",
   "execution_count": 7,
   "metadata": {},
   "outputs": [
    {
     "name": "stdout",
     "output_type": "stream",
     "text": [
      "deb https://dl.bintray.com/sbt/debian /\n",
      "Executing: /tmp/tmp.YgKWK4WB1j/gpg.1.sh --keyserver\n",
      "hkp://keyserver.ubuntu.com:80\n",
      "--recv\n",
      "2EE0EA64E40A89B84B2DF73499E82A75642AC823\n",
      "gpg: requesting key 642AC823 from hkp server keyserver.ubuntu.com\n",
      "gpg: key 642AC823: public key \"sbt build tool <scalasbt@gmail.com>\" imported\n",
      "gpg: Total number processed: 1\n",
      "gpg:               imported: 1  (RSA: 1)\n",
      "Hit:1 http://archive.ubuntu.com/ubuntu xenial InRelease\n",
      "Get:2 http://archive.ubuntu.com/ubuntu xenial-updates InRelease [109 kB]\n",
      "Get:3 http://archive.ubuntu.com/ubuntu xenial-backports InRelease [107 kB]\n",
      "Get:4 https://dl.yarnpkg.com/debian stable InRelease [13.3 kB]\n",
      "Get:5 http://archive.ubuntu.com/ubuntu xenial-updates/universe Sources [280 kB]\n",
      "Ign:6 https://dl.bintray.com/sbt/debian  InRelease\n",
      "Get:7 http://security.ubuntu.com/ubuntu xenial-security InRelease [107 kB]\n",
      "Get:8 https://dl.bintray.com/sbt/debian  Release [815 B]\n",
      "Get:9 http://archive.ubuntu.com/ubuntu xenial-updates/main amd64 Packages [1,097 kB]\n",
      "Get:10 https://dl.yarnpkg.com/debian stable/main amd64 Packages [7,477 B]\n",
      "Get:11 https://dl.yarnpkg.com/debian stable/main all Packages [7,477 B]\n",
      "Get:12 https://dl.bintray.com/sbt/debian  Release.gpg [821 B]\n",
      "Get:13 http://archive.ubuntu.com/ubuntu xenial-updates/restricted amd64 Packages [13.1 kB]\n",
      "Get:14 http://archive.ubuntu.com/ubuntu xenial-updates/universe amd64 Packages [889 kB]\n",
      "Get:15 http://security.ubuntu.com/ubuntu xenial-security/universe Sources [93.4 kB]\n",
      "Get:16 https://dl.bintray.com/sbt/debian  Packages [3,107 B]\n",
      "Get:17 http://security.ubuntu.com/ubuntu xenial-security/main amd64 Packages [709 kB]\n",
      "Get:18 http://archive.ubuntu.com/ubuntu xenial-updates/multiverse amd64 Packages [18.8 kB]\n",
      "Get:19 http://archive.ubuntu.com/ubuntu xenial-backports/main amd64 Packages [7,343 B]\n",
      "Get:20 http://archive.ubuntu.com/ubuntu xenial-backports/universe amd64 Packages [8,256 B]\n",
      "Get:21 http://security.ubuntu.com/ubuntu xenial-security/restricted amd64 Packages [12.7 kB]\n",
      "Get:22 http://security.ubuntu.com/ubuntu xenial-security/universe amd64 Packages [480 kB]\n",
      "Get:23 http://security.ubuntu.com/ubuntu xenial-security/multiverse amd64 Packages [3,744 B]\n",
      "Fetched 3,968 kB in 4s (982 kB/s)\n",
      "Reading package lists...\n",
      "Reading package lists...\n",
      "Building dependency tree...\n",
      "Reading state information...\n",
      "The following NEW packages will be installed:\n",
      "  sbt\n",
      "0 upgraded, 1 newly installed, 0 to remove and 41 not upgraded.\n",
      "Need to get 1,322 kB of archives.\n",
      "After this operation, 1,302 kB of additional disk space will be used.\n",
      "Get:1 https://dl.bintray.com/sbt/debian  sbt 1.2.3 [1,322 kB]\n",
      "\n"
     ]
    }
   ],
   "source": [
    "%%bash\n",
    "echo \"deb https://dl.bintray.com/sbt/debian /\" | sudo tee -a /etc/apt/sources.list.d/sbt.list\n",
    "sudo apt-key adv --keyserver hkp://keyserver.ubuntu.com:80 --recv 2EE0EA64E40A89B84B2DF73499E82A75642AC823\n",
    "sudo apt-get update\n",
    "sudo apt-get install sbt"
   ]
  },
  {
   "cell_type": "code",
   "execution_count": null,
   "metadata": {},
   "outputs": [],
   "source": []
  }
 ],
 "metadata": {
  "kernelspec": {
   "display_name": "Scala",
   "language": "scala",
   "name": "scala"
  },
  "language_info": {
   "codemirror_mode": "text/x-scala",
   "file_extension": ".scala",
   "mimetype": "",
   "name": "Scala",
   "nbconverter_exporter": "",
   "version": "2.11.12"
  },
  "toc": {
   "base_numbering": 1,
   "nav_menu": {},
   "number_sections": false,
   "sideBar": false,
   "skip_h1_title": false,
   "title_cell": "Table of Contents",
   "title_sidebar": "Contents",
   "toc_cell": false,
   "toc_position": {},
   "toc_section_display": false,
   "toc_window_display": false
  }
 },
 "nbformat": 4,
 "nbformat_minor": 2
}
