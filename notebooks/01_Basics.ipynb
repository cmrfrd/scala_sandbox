{
 "cells": [
  {
   "cell_type": "markdown",
   "metadata": {},
   "source": [
    "## Scala Basics\n",
    "\n",
    "By: Alex Comerford (alexanderjcomerford@gmail.com)\n",
    "\n",
    "In this notebook we will be going over all the simple simple basics of the scala programming language as a general overview / reference.\n",
    "\n",
    "I personally come from a python/golang mindset so this will be a bias review of scala from my perspective"
   ]
  },
  {
   "cell_type": "markdown",
   "metadata": {},
   "source": [
    "### The hello world\n",
    "\n",
    "The most basic introduction to any programming language\n",
    "\n",
    "Two example of hello world, normal print, and a normal class. What is interesting the [unit](https://www.scala-lang.org/api/current/scala/Unit.html) subtype."
   ]
  },
  {
   "cell_type": "code",
   "execution_count": 23,
   "metadata": {},
   "outputs": [
    {
     "name": "stdout",
     "output_type": "stream",
     "text": [
      "Hello, Scala!\n"
     ]
    },
    {
     "data": {
      "text/plain": [
       "null"
      ]
     },
     "execution_count": 23,
     "metadata": {},
     "output_type": "execute_result"
    }
   ],
   "source": [
    "println(\"Hello, Scala!\");"
   ]
  },
  {
   "cell_type": "code",
   "execution_count": 25,
   "metadata": {},
   "outputs": [
    {
     "name": "stdout",
     "output_type": "stream",
     "text": [
      "Hello World\n"
     ]
    },
    {
     "data": {
      "text/plain": [
       "null"
      ]
     },
     "execution_count": 25,
     "metadata": {},
     "output_type": "execute_result"
    }
   ],
   "source": [
    "class HelloWorld {\n",
    "  def hello(): Unit = {\n",
    "    println(\"Hello World\")\n",
    "  }\n",
    "}\n",
    "new HelloWorld().hello()\n",
    "\n",
    "/*\n",
    " *  Comments are pretty normal too!\n",
    " */"
   ]
  },
  {
   "cell_type": "markdown",
   "metadata": {},
   "source": [
    "## Syntax\n",
    "\n",
    "Some clarification on some of the intersting scala primitives. This is based off of https://www.tutorialspoint.com/scala/scala_basic_syntax.htm\n",
    "\n",
    "A Scala program is a collection of objects that talk to eachother by the use of methods"
   ]
  },
  {
   "cell_type": "markdown",
   "metadata": {},
   "source": [
    "### Variables\n",
    "\n",
    "So there are two types of variables, namely `var` and `val`. These associate with mutable and immutable variables respectively"
   ]
  },
  {
   "cell_type": "code",
   "execution_count": 30,
   "metadata": {},
   "outputs": [
    {
     "name": "stdout",
     "output_type": "stream",
     "text": [
      "Foo\n",
      "Bar\n"
     ]
    },
    {
     "data": {
      "text/plain": [
       "null"
      ]
     },
     "execution_count": 30,
     "metadata": {},
     "output_type": "execute_result"
    }
   ],
   "source": [
    "// var example\n",
    "var changable_var : String = \"Foo\"\n",
    "println(changable_var)\n",
    "changable_var = \"Bar\"\n",
    "println(changable_var)"
   ]
  },
  {
   "cell_type": "code",
   "execution_count": 32,
   "metadata": {},
   "outputs": [
    {
     "ename": "<console>",
     "evalue": "92",
     "output_type": "error",
     "traceback": [
      "\u001b[1;31m<console>:92: error: reassignment to val\u001b[0;0m",
      "\u001b[1;31m       non_changable = 20\u001b[0;0m",
      "\u001b[1;31m                     ^\u001b[0;0m"
     ]
    }
   ],
   "source": [
    "// val example\n",
    "val non_changable : Int = 10\n",
    "non_changable = 20"
   ]
  },
  {
   "cell_type": "markdown",
   "metadata": {},
   "source": [
    "## Classes\n",
    "\n",
    "In this next example we will create a simple `NDEuclidianVector` class implementation and create some associated methods"
   ]
  },
  {
   "cell_type": "code",
   "execution_count": 270,
   "metadata": {},
   "outputs": [
    {
     "data": {
      "text/plain": [
       "warning: there was one unchecked warning; re-run with -unchecked for details\n",
       "warning: there was one feature warning; re-run with -feature for details\n",
       "defined class MisMatchLengthException\n",
       "product: (xs: List[Double])Double\n",
       "defined class NDEuclidianVector\n"
      ]
     },
     "execution_count": 270,
     "metadata": {},
     "output_type": "execute_result"
    }
   ],
   "source": [
    "// Exception when two vectors are not the same dimension\n",
    "final case class MisMatchLengthException(private val message: String = \"\", \n",
    "                                 private val cause: Throwable = None.orNull)\n",
    "                                 extends Exception(message, cause)\n",
    "\n",
    "// List multiplicative product function\n",
    "def product(xs: List[Double]): Double = (1.0 /: xs) (_ * _)\n",
    "\n",
    "// Class describing the behavior of a euclidian vector\n",
    "class NDEuclidianVector(val inputValues: Double*) {\n",
    "   var values = inputValues    \n",
    "\n",
    "   def norm(): Double = {\n",
    "       math.sqrt(values.map(math.pow(_, 2)).sum)\n",
    "   }\n",
    "    \n",
    "   def dot(that: NDEuclidianVector): Double = {\n",
    "       List(values, that.values).transpose.map( product(_) ).sum\n",
    "   }\n",
    "\n",
    "   def +(that: NDEuclidianVector): NDEuclidianVector = {\n",
    "       if (values.length != that.values.length) {\n",
    "           throw new MisMatchLengthException(s\"Cannot add mismatch length vectors ${values.length} and ${that.values.length}\")\n",
    "       }\n",
    "       val addResult = List(values, that.values).transpose.map((_).sum)\n",
    "       new NDEuclidianVector(addResult: _*)\n",
    "   }\n",
    "    \n",
    "   def -(that: NDEuclidianVector): NDEuclidianVector = {\n",
    "       if (values.length != that.values.length) {\n",
    "           throw new MisMatchLengthException(s\"Cannot add mismatch length vectors ${values.length} and ${that.values.length}\")\n",
    "       }\n",
    "       val subResult = List(values, that.values).transpose.map(v => v(0) - v(1))\n",
    "       new NDEuclidianVector(subResult: _*)\n",
    "   }\n",
    "    \n",
    "    \n",
    "   override def toString(): String = {\n",
    "       List(values) mkString\n",
    "   }\n",
    "}"
   ]
  },
  {
   "cell_type": "code",
   "execution_count": 271,
   "metadata": {},
   "outputs": [
    {
     "name": "stdout",
     "output_type": "stream",
     "text": [
      "5.0\n",
      "List(2.0, 4.0)\n",
      "List(0.0, 0.0)\n",
      "2.23606797749979\n"
     ]
    },
    {
     "data": {
      "text/plain": [
       "null"
      ]
     },
     "execution_count": 271,
     "metadata": {},
     "output_type": "execute_result"
    }
   ],
   "source": [
    "val a = new NDEuclidianVector(1,2)\n",
    "val b = new NDEuclidianVector(1,2)\n",
    "val c = new NDEuclidianVector(1,2,3)\n",
    "\n",
    "println(a.dot(b))\n",
    "println(a + b)\n",
    "println(a - b)\n",
    "println(a.norm())"
   ]
  },
  {
   "cell_type": "markdown",
   "metadata": {},
   "source": [
    "## Animal Class Inheritance\n",
    "In this next cell we will define a few classes to each represent a different animal.\n",
    "\n",
    "This example has been adapted from https://docs.scala-lang.org/tour/pattern-matching.html"
   ]
  },
  {
   "cell_type": "code",
   "execution_count": 272,
   "metadata": {},
   "outputs": [
    {
     "data": {
      "text/plain": [
       "defined object MammalCovering\n",
       "defined object BirdColors\n",
       "defined class Animal\n",
       "defined class Reptile\n",
       "defined class Mammal\n",
       "defined class Bird\n"
      ]
     },
     "execution_count": 272,
     "metadata": {},
     "output_type": "execute_result"
    }
   ],
   "source": [
    "object MammalCovering extends Enumeration {\n",
    "    type MammalCovering = Value\n",
    "    val Hair, Fur, Bald = Value\n",
    "}\n",
    "\n",
    "object BirdColors extends Enumeration {\n",
    "    type BirdColors = Value\n",
    "    val Red, Amber, Green, Blue, Brown, White = Value\n",
    "}\n",
    "\n",
    "abstract class Animal\n",
    "case class Reptile(name: String, appendages: Int, description: String) extends Animal\n",
    "case class Mammal(name: String, covering: MammalCovering.MammalCovering, description: String) extends Animal\n",
    "case class Bird(name: String, colors: Seq[BirdColors.BirdColors], description: String) extends Animal\n",
    "// We won't bother with Amphibians, they're slimy"
   ]
  },
  {
   "cell_type": "code",
   "execution_count": 274,
   "metadata": {},
   "outputs": [
    {
     "name": "stdout",
     "output_type": "stream",
     "text": [
      "Animals made!\n"
     ]
    },
    {
     "data": {
      "text/plain": [
       "null"
      ]
     },
     "execution_count": 274,
     "metadata": {},
     "output_type": "execute_result"
    }
   ],
   "source": [
    "val eagle = Bird(\"Charles\", List(BirdColors.Brown, BirdColors.White), \"Beautiful and majestic :)\")\n",
    "val lizard = Reptile(\"Bobby\", 4, \"Agile and aware, lives for the sun!\")\n",
    "val nakedMoleRat = Mammal(\"Susan\", MammalCovering.Bald, \"Hairless, Smart, and Blind, but great at the dinner table.\")\n",
    "\n",
    "println(\"Animals made!\")"
   ]
  },
  {
   "cell_type": "code",
   "execution_count": 278,
   "metadata": {},
   "outputs": [
    {
     "name": "stdout",
     "output_type": "stream",
     "text": [
      "Charles is a beatiful bird with beautiful List(Brown, White) feathers!\n",
      "Bobby is a gorgeous reptile with 4 strong arms/legs!\n",
      "Susan is a fabulous mammal with Bald to keep it warm during the winter!\n"
     ]
    },
    {
     "data": {
      "text/plain": [
       "null"
      ]
     },
     "execution_count": 278,
     "metadata": {},
     "output_type": "execute_result"
    }
   ],
   "source": [
    "def describeAnimal(animal: Animal): String = {\n",
    "  animal match {\n",
    "    case Bird(name, colors, _) =>\n",
    "      s\"$name is a beatiful bird with beautiful $colors feathers!\"\n",
    "    case Reptile(name, appendages, _) =>\n",
    "      s\"$name is a gorgeous reptile with $appendages strong arms/legs!\"\n",
    "    case Mammal(name, covering, _) =>\n",
    "      s\"$name is a fabulous mammal with $covering to keep it warm during the winter!\"\n",
    "  }\n",
    "}\n",
    "\n",
    "println(describeAnimal(eagle))\n",
    "println(describeAnimal(lizard))\n",
    "println(describeAnimal(nakedMoleRat))"
   ]
  },
  {
   "cell_type": "markdown",
   "metadata": {},
   "source": [
    "Maybe Susan should go buy a jacket before winter rolls around..."
   ]
  },
  {
   "cell_type": "markdown",
   "metadata": {},
   "source": [
    "## Implicit classes\n",
    "\n",
    "This concept is quite interesting. It allows us to extend functionality to an object without editing it!\n",
    "\n",
    "This example is from the scala docs (https://www.tutorialspoint.com/scala/scala_classes_objects.htm) and essentially allows us to run a functino multiple times but using a very different syntax\n",
    "\n",
    "Instead of \n",
    "```\n",
    "<funcname>()\n",
    "<funcname>()\n",
    "<funcname>()\n",
    "<funcname>()\n",
    "```\n",
    "\n",
    "or\n",
    "```\n",
    "for ( b <- 1 until 4) {\n",
    "    <funcname>()\n",
    "}\n",
    "```\n",
    "\n",
    "We can do \n",
    "```\n",
    "4 times <funcname>()\n",
    "```\n",
    "\n",
    "This can lead to some very interesting ways to write code!"
   ]
  },
  {
   "cell_type": "code",
   "execution_count": 2,
   "metadata": {},
   "outputs": [
    {
     "name": "stdout",
     "output_type": "stream",
     "text": [
      "Hellooo\n",
      "Hellooo\n",
      "Hellooo\n",
      "Hellooo\n"
     ]
    },
    {
     "data": {
      "text/plain": [
       "null"
      ]
     },
     "execution_count": 2,
     "metadata": {},
     "output_type": "execute_result"
    }
   ],
   "source": [
    "implicit class IntTimes(x: Int) {\n",
    "  def times [A](f: =>A): Unit = {\n",
    "     def loop(current: Int): Unit =\n",
    "\n",
    "     if(current > 0){\n",
    "        f\n",
    "        loop(current - 1)\n",
    "     }\n",
    "     loop(x)\n",
    "  }\n",
    "}\n",
    "\n",
    "var hello = (numO: Int) => println(\"Hell\" + (\"o\" * numO)) \n",
    "4 times hello(3)"
   ]
  },
  {
   "cell_type": "markdown",
   "metadata": {},
   "source": [
    "#### Another example, donuts!!\n",
    "\n",
    "We can use implicit classes in other ways too! Using this example http://allaboutscala.com/tutorials/chapter-3-beginner-tutorial-using-classes-scala/scala-tutorial-learn-use-implicit-class-extension-methods/ we will go into more detail"
   ]
  },
  {
   "cell_type": "markdown",
   "metadata": {},
   "source": [
    "Here we define a simple class donut. The only different thing here is the "
   ]
  },
  {
   "cell_type": "code",
   "execution_count": 15,
   "metadata": {},
   "outputs": [
    {
     "data": {
      "text/plain": [
       "Donut(Vanilla,1.5,None)"
      ]
     },
     "execution_count": 15,
     "metadata": {},
     "output_type": "execute_result"
    }
   ],
   "source": [
    "// First we create the donut and a vanilla donut :P\n",
    "\n",
    "case class Donut(name: String, \n",
    "                 price: Double, \n",
    "                 productCode: Option[Long] = None)\n",
    "\n",
    "val vanillaDonut: Donut = Donut(\"Vanilla\", 1.50)"
   ]
  },
  {
   "cell_type": "markdown",
   "metadata": {},
   "source": [
    "Now with an implicit class we can create a new method which which automatically be associated with our `Donut` class. \n",
    "\n",
    "We essentially just added new functionality without changing `Donut` itself!"
   ]
  },
  {
   "cell_type": "code",
   "execution_count": 16,
   "metadata": {},
   "outputs": [
    {
     "name": "stdout",
     "output_type": "stream",
     "text": [
      "Vanilla - 12345\n"
     ]
    },
    {
     "data": {
      "text/plain": [
       "null"
      ]
     },
     "execution_count": 16,
     "metadata": {},
     "output_type": "execute_result"
    }
   ],
   "source": [
    "implicit class AugmentedDonut(donut: Donut) {\n",
    "    def uuid: String = s\"${donut.name} - ${donut.productCode.getOrElse(12345)}\"\n",
    "}\n",
    "\n",
    "println(vanillaDonut.uuid)"
   ]
  },
  {
   "cell_type": "markdown",
   "metadata": {},
   "source": [
    "## Access\n",
    "\n",
    "In the next few cells I will copy and paste the examples from \n",
    "https://www.tutorialspoint.com/scala/scala_access_modifiers.htm\n",
    "and\n",
    "http://www.jesperdj.com/2016/01/08/scala-access-modifiers-and-qualifiers-in-detail/\n",
    "\n",
    "for reference\n",
    "\n",
    "If you come from the java background alot of this should be extremely familiar, but there are a few twists"
   ]
  },
  {
   "cell_type": "markdown",
   "metadata": {},
   "source": [
    "So the accesses in java look like this\n",
    "\n",
    "|Modifier | Class | Package | Subclass | World |\n",
    "|   ---   |  ---  |   ---   |    ---   |  ---  | \n",
    "|public   |   Y   |    Y    |    Y     |   Y   |\n",
    "|protected| \tY |\t   Y    |    Y     |   N   |\n",
    "|no modifier| \tY |\t   Y    |    N     |   N   |\n",
    "|private | \t  Y   |    N    |   N      |  N    |"
   ]
  },
  {
   "cell_type": "markdown",
   "metadata": {},
   "source": [
    "Scala looks a little different\n",
    "\n",
    "|Modifier| \tClass| \tCompanion| \tSubclass| \tPackage| \tWorld|\n",
    "|   ---   |  ---  |   ---   |    ---   |  ---  | --- |\n",
    "|no modifier| \tY| \tY| \tY| \tY| \tY|\n",
    "|protected| \tY| \tY| \tY| \tN * | \tN|\n",
    "|private| \tY| \tY| \tN| \tN * |\tN|\n",
    "\n",
    "There is an additional `companion` column and no such thing as `Public` :O"
   ]
  },
  {
   "cell_type": "markdown",
   "metadata": {},
   "source": [
    "We can create an unaccessible error in the cell below using `private`. This is just to demonstrate these effects"
   ]
  },
  {
   "cell_type": "code",
   "execution_count": 25,
   "metadata": {},
   "outputs": [
    {
     "ename": "<console>",
     "evalue": "27",
     "output_type": "error",
     "traceback": [
      "\u001b[1;31m<console>:27: error: method f in class Inner cannot be accessed in Outer.this.Inner\u001b[0;0m",
      "\u001b[1;31m       (new Inner).f() // Error: f is not accessible\u001b[0;0m",
      "\u001b[1;31m                   ^\u001b[0;0m"
     ]
    }
   ],
   "source": [
    "class Outer {\n",
    "   class Inner {\n",
    "      private def f() { println(\"f\") }\n",
    "      \n",
    "      class InnerMost {\n",
    "         f() // OK\n",
    "      }\n",
    "   }\n",
    "   (new Inner).f() // Error: f is not accessible\n",
    "}"
   ]
  },
  {
   "cell_type": "markdown",
   "metadata": {},
   "source": [
    "Now we can create a working `Outer` class by removing the `private` access modifier"
   ]
  },
  {
   "cell_type": "code",
   "execution_count": 30,
   "metadata": {},
   "outputs": [
    {
     "data": {
      "text/plain": [
       "defined class Outer\n"
      ]
     },
     "execution_count": 30,
     "metadata": {},
     "output_type": "execute_result"
    }
   ],
   "source": [
    "class Outer {\n",
    "   class Inner {\n",
    "      def f() { println(\"f\") }\n",
    "      \n",
    "      class InnerMost {\n",
    "         f() // OK\n",
    "      }\n",
    "   }\n",
    "   (new Inner).f() // OK because now f() is public\n",
    "}"
   ]
  },
  {
   "cell_type": "markdown",
   "metadata": {},
   "source": [
    "#### Good access vs bad access\n",
    "\n",
    "In this next example we will create a `StopWatch` class.\n",
    "\n",
    "With this class we will show normal operation and access, then invalid access"
   ]
  },
  {
   "cell_type": "code",
   "execution_count": 27,
   "metadata": {},
   "outputs": [
    {
     "name": "stdout",
     "output_type": "stream",
     "text": [
      "Seconds: 0\n",
      "Seconds: 5\n"
     ]
    },
    {
     "data": {
      "text/plain": [
       "null"
      ]
     },
     "execution_count": 27,
     "metadata": {},
     "output_type": "execute_result"
    }
   ],
   "source": [
    "class StopWatch {\n",
    "  private var seconds = 0\n",
    "  def addSeconds(secondsAmount:Int) {\n",
    "    if (secondsAmount > 0) {\n",
    "      seconds += secondsAmount\n",
    "    }\n",
    "  }\n",
    "  def currentSeconds = seconds\n",
    "}\n",
    "\n",
    "/*\n",
    " * Good and normal access!\n",
    " */\n",
    "val stopWatch = new StopWatch\n",
    "stopWatch.addSeconds(-10)\n",
    "println(\"Seconds: \" + stopWatch.currentSeconds)\n",
    "stopWatch.addSeconds(5)\n",
    "println(\"Seconds: \" + stopWatch.currentSeconds)"
   ]
  },
  {
   "cell_type": "code",
   "execution_count": 115,
   "metadata": {},
   "outputs": [
    {
     "ename": "<console>",
     "evalue": "151",
     "output_type": "error",
     "traceback": [
      "\u001b[1;31m<console>:151: error: variable seconds in class StopWatch cannot be accessed in StopWatch\u001b[0;0m",
      "\u001b[1;31mval $ires66 = stopWatch.seconds\u001b[0;0m",
      "\u001b[1;31m                        ^\u001b[0;0m",
      "\u001b[1;31m<console>:149: error: variable seconds in class StopWatch cannot be accessed in StopWatch\u001b[0;0m",
      "\u001b[1;31m       stopWatch.seconds = -10\u001b[0;0m",
      "\u001b[1;31m                 ^\u001b[0;0m"
     ]
    }
   ],
   "source": [
    "// Bad access!!!!! seconds is private!!!!!\n",
    "stopWatch.seconds = -10"
   ]
  },
  {
   "cell_type": "markdown",
   "metadata": {},
   "source": [
    "## Singleton objects\n",
    "\n",
    "This is something that is very different from most languages. Here we simultaneously instantiate and define an object in line which can then be used accross our program."
   ]
  },
  {
   "cell_type": "code",
   "execution_count": 118,
   "metadata": {},
   "outputs": [
    {
     "name": "stdout",
     "output_type": "stream",
     "text": [
      "1\n",
      "2\n"
     ]
    },
    {
     "data": {
      "text/plain": [
       "null"
      ]
     },
     "execution_count": 118,
     "metadata": {},
     "output_type": "execute_result"
    }
   ],
   "source": [
    "object IdFactory {\n",
    "  private var counter = 0\n",
    "  def create(): Int = {\n",
    "    counter += 1\n",
    "    counter\n",
    "  }\n",
    "}\n",
    "\n",
    "println(IdFactory.create())\n",
    "println(IdFactory.create())"
   ]
  },
  {
   "cell_type": "markdown",
   "metadata": {},
   "source": [
    "## If-else\n",
    "\n",
    "This is just a simple reference example of if-else"
   ]
  },
  {
   "cell_type": "code",
   "execution_count": 32,
   "metadata": {},
   "outputs": [
    {
     "name": "stdout",
     "output_type": "stream",
     "text": [
      "Value of X is 30\n"
     ]
    },
    {
     "data": {
      "text/plain": [
       "null"
      ]
     },
     "execution_count": 32,
     "metadata": {},
     "output_type": "execute_result"
    }
   ],
   "source": [
    "var x = 30;\n",
    "\n",
    "if( x == 10 ){\n",
    "    println(\"Value of X is 10\");\n",
    "} else if( x == 20 ){\n",
    "    println(\"Value of X is 20\");\n",
    "} else if( x == 30 ){\n",
    "    println(\"Value of X is 30\");\n",
    "} else{\n",
    "    println(\"This is else statement\");\n",
    "}"
   ]
  },
  {
   "cell_type": "markdown",
   "metadata": {},
   "source": [
    "## Funny functions\n",
    "\n",
    "Since scala is a partially functional language it feels important to go over some of the examples of different functions and some interesting use cases"
   ]
  },
  {
   "cell_type": "code",
   "execution_count": 36,
   "metadata": {},
   "outputs": [
    {
     "name": "stdout",
     "output_type": "stream",
     "text": [
      "Arg value[0] = apple\n",
      "Arg value[1] = bannana\n",
      "Arg value[2] = orange\n"
     ]
    },
    {
     "data": {
      "text/plain": [
       "null"
      ]
     },
     "execution_count": 36,
     "metadata": {},
     "output_type": "execute_result"
    }
   ],
   "source": [
    "//\n",
    "// Variable arguments!\n",
    "//\n",
    "\n",
    "def printStrings( args:String* ) = {\n",
    "    var i : Int = 0;\n",
    "\n",
    "    for( arg <- args ){\n",
    "        println(\"Arg value[\" + i + \"] = \" + arg );\n",
    "        i = i + 1;\n",
    "    }\n",
    "}\n",
    "\n",
    "printStrings(List(\"apple\", \"bannana\", \"orange\"): _*)"
   ]
  },
  {
   "cell_type": "code",
   "execution_count": 38,
   "metadata": {},
   "outputs": [
    {
     "data": {
      "text/plain": [
       "12"
      ]
     },
     "execution_count": 38,
     "metadata": {},
     "output_type": "execute_result"
    }
   ],
   "source": [
    "//\n",
    "// Default paramaters\n",
    "//\n",
    "\n",
    "def addInt( a:Int = 5, b:Int = 7 ) : Int = {\n",
    "    var sum:Int = 0\n",
    "    sum = a + b\n",
    "\n",
    "    return sum\n",
    "}\n",
    "\n",
    "addInt()"
   ]
  },
  {
   "cell_type": "code",
   "execution_count": 51,
   "metadata": {},
   "outputs": [
    {
     "data": {
      "text/plain": [
       "120"
      ]
     },
     "execution_count": 51,
     "metadata": {},
     "output_type": "execute_result"
    }
   ],
   "source": [
    "//\n",
    "// Nested functions / recursive functions\n",
    "//\n",
    "// Hooray for factorials!!\n",
    "//\n",
    "// Kinda like the no curly brace syntax for if-else\n",
    "//\n",
    "\n",
    "def factorial(i: Int): Int = {\n",
    "    def fact(i: Int, accumulator: Int): Int = {\n",
    "        if (i <= 1)\n",
    "            accumulator\n",
    "        else\n",
    "            fact(i - 1, i * accumulator)\n",
    "    }\n",
    "    fact(i, 1)\n",
    "}\n",
    "\n",
    "factorial(5)"
   ]
  },
  {
   "cell_type": "code",
   "execution_count": 48,
   "metadata": {},
   "outputs": [
    {
     "name": "stdout",
     "output_type": "stream",
     "text": [
      "<div>potato</div>\n",
      "Mon Sep 17 20:40:06 UTC 2018----message1\n",
      "Mon Sep 17 20:40:06 UTC 2018----message2\n",
      "Mon Sep 17 20:40:06 UTC 2018----message3\n"
     ]
    },
    {
     "data": {
      "text/plain": [
       "null"
      ]
     },
     "execution_count": 48,
     "metadata": {},
     "output_type": "execute_result"
    }
   ],
   "source": [
    "//\n",
    "// Partially applied functions\n",
    "//\n",
    "// This topic of scala is pretty interesting... I keep seeing people refering to functions as\n",
    "// \"applying the function to the parameters\"\n",
    "// which puts into context partially applied functions as \n",
    "// \"applying a subset of the parameters to the function\"\n",
    "//\n",
    "// Lets's take a look at a few examples\n",
    "//\n",
    "\n",
    "def wrap(prefix: String, html: String, suffix: String) = {\n",
    "    prefix + html + suffix\n",
    "}\n",
    "val wrapWithDiv = wrap(\"<div>\", _: String, \"</div>\")\n",
    "println(wrapWithDiv(\"potato\"))\n",
    "\n",
    "//----------------------------------------------\n",
    "\n",
    "import java.util.Date\n",
    "def log(date: Date, message: String) = {\n",
    "  println(date + \"----\" + message)\n",
    "}\n",
    "val date = new Date\n",
    "val logWithDateBound = log(date, _ : String)\n",
    "\n",
    "logWithDateBound(\"message1\" )\n",
    "Thread.sleep(1000)\n",
    "\n",
    "logWithDateBound(\"message2\" )\n",
    "Thread.sleep(1000)\n",
    "\n",
    "logWithDateBound(\"message3\" )"
   ]
  },
  {
   "cell_type": "code",
   "execution_count": 50,
   "metadata": {},
   "outputs": [
    {
     "name": "stdout",
     "output_type": "stream",
     "text": [
      "Value of a : 7\n",
      "Value of b : 5\n"
     ]
    },
    {
     "data": {
      "text/plain": [
       "null"
      ]
     },
     "execution_count": 50,
     "metadata": {},
     "output_type": "execute_result"
    }
   ],
   "source": [
    "//\n",
    "// Functions with named arguments\n",
    "//\n",
    "// Pretty straight forward, arguments have names you can call them by\n",
    "//\n",
    "\n",
    "def printInt( a:Int, b:Int ) = {\n",
    "    println(\"Value of a : \" + a );\n",
    "    println(\"Value of b : \" + b );\n",
    "}\n",
    "\n",
    "printInt(b = 5, a = 7);"
   ]
  },
  {
   "cell_type": "code",
   "execution_count": 61,
   "metadata": {},
   "outputs": [
    {
     "name": "stdout",
     "output_type": "stream",
     "text": [
      "I'm an anon func\n",
      "I'm an anon func\n",
      "I'm an anon func\n",
      "I'm an anon func\n",
      "I'm an anon func\n",
      "1.732025146484375\n"
     ]
    },
    {
     "data": {
      "text/plain": [
       "null"
      ]
     },
     "execution_count": 61,
     "metadata": {},
     "output_type": "execute_result"
    }
   ],
   "source": [
    "//\n",
    "// Higher order functions\n",
    "//\n",
    "// Pretty straight forward again, passing functions to functions\n",
    "//\n",
    "\n",
    "def oncePerSecond(times: Int = 5, callback: () => Unit) {\n",
    "    for (a <- 0 until times) { callback(); Thread.sleep(1000) }\n",
    "}\n",
    "\n",
    "oncePerSecond(callback = () => println(\"I'm an anon func\"))\n",
    "\n",
    "// -------------------------------------------------------------------\n",
    "\n",
    "// FUNCTIONS\n",
    "val fx = (x: Double) => x*x*x + x*x - 3*x -3\n",
    "\n",
    "def signsAreOpposite(x: Double, y: Double):Boolean = {\n",
    "  if (x < 0 && y > 0) return true\n",
    "  else if (x > 0 && y < 0) return true\n",
    "  else return false\n",
    "}\n",
    "\n",
    "def halveTheInterval(fx: Double => Double, x1:Double, x2:Double, tolerance:Double): Double = {\n",
    "  var x1wkg = x1\n",
    "  var x2wkg = x2\n",
    "  while (math.abs(x1wkg-x2wkg) > tolerance) {\n",
    "      var x3 = (x1wkg + x2wkg)/2.0\n",
    "      if (signsAreOpposite(fx(x3), fx(x1wkg))) x2wkg = x3 else x1wkg = x3\n",
    "  }\n",
    "  return x1wkg\n",
    "}\n",
    "\n",
    "// VARIABLES\n",
    "val x1 = 1.0\n",
    "val x2 = 2.0\n",
    "val tolerance = 0.00005\n",
    "\n",
    "val answer = halveTheInterval(fx, x1, x2, tolerance)\n",
    "println(answer)"
   ]
  },
  {
   "cell_type": "code",
   "execution_count": 67,
   "metadata": {},
   "outputs": [
    {
     "name": "stdout",
     "output_type": "stream",
     "text": [
      "5\n",
      "81\n",
      "9090909\n",
      "16\n"
     ]
    },
    {
     "data": {
      "text/plain": [
       "null"
      ]
     },
     "execution_count": 67,
     "metadata": {},
     "output_type": "execute_result"
    }
   ],
   "source": [
    "//\n",
    "// Anonymous functions\n",
    "//\n",
    "// Also straight forward, no named functions that usually only do something very simple\n",
    "//\n",
    "\n",
    "var inc = (x:Int) => x+1\n",
    "println(inc(4))\n",
    "\n",
    "var mul = (x: Int, y: Int) => x*y\n",
    "println(mul(9,9))\n",
    "\n",
    "var id = (x: Int) => x\n",
    "println(id(9090909))\n",
    "\n",
    "var square = (x: Int) => x * x\n",
    "println(square(4))"
   ]
  },
  {
   "cell_type": "code",
   "execution_count": 78,
   "metadata": {},
   "outputs": [
    {
     "name": "stdout",
     "output_type": "stream",
     "text": [
      "first second\n",
      "List(2, 4)\n",
      "List(5, 3, 1)\n",
      "9\n"
     ]
    },
    {
     "data": {
      "text/plain": [
       "null"
      ]
     },
     "execution_count": 78,
     "metadata": {},
     "output_type": "execute_result"
    }
   ],
   "source": [
    "//\n",
    "// Currying functions\n",
    "//\n",
    "// This is where things get wacky. With currying functions you can\n",
    "// chain function paramaters together\n",
    "//\n",
    "\n",
    "def strcat(s1: String)(s2: String) = s1 + \" \" + s2\n",
    "println(strcat(\"first\")(\"second\"))\n",
    "\n",
    "//-------------------------------------------------------------\n",
    "\n",
    "// Pretty cool if you ask me!\n",
    "def process[A](filter:A=>Boolean)(list:List[A]):List[A] = {\n",
    "  lazy val recurse = process(filter) _\n",
    " \n",
    "  list match {\n",
    "    case head::tail => if (filter(head)) {\n",
    "      head::recurse(tail)\n",
    "    } else {\n",
    "      recurse(tail)\n",
    "    }\n",
    " \n",
    "    case Nil => Nil\n",
    "  }\n",
    "}\n",
    " \n",
    "val even = (a:Int) => a % 2 == 0\n",
    "val odd = (a:Int) => a % 2 != 0\n",
    "val numbersAsc = 1::2::3::4::5::Nil\n",
    "val numbersDesc = 5::4::3::2::1::Nil\n",
    " \n",
    "println(process(even)(numbersAsc))\n",
    "println(process(odd)(numbersDesc))\n",
    "\n",
    "\n",
    "//-------------------------------------------------\n",
    "\n",
    "// This is an example of partial currying \n",
    "def add(x:Int, y:Int, z:Int) = x + y + z\n",
    "val addFive = add(5, _:Int, _:Int)\n",
    "println(addFive(3, 1) )"
   ]
  },
  {
   "cell_type": "markdown",
   "metadata": {},
   "source": [
    "## Arrays\n",
    "\n",
    "The concept of arrays are pretty concrete accross programming languages so I'll just stick with a single simple example for this one "
   ]
  },
  {
   "cell_type": "code",
   "execution_count": 100,
   "metadata": {},
   "outputs": [
    {
     "name": "stdout",
     "output_type": "stream",
     "text": [
      "List(Zara, Nuha, Ayan)\n",
      "List([I@42293d00, [I@b96c523, [I@7e021091)\n"
     ]
    },
    {
     "data": {
      "text/plain": [
       "scala.Array$@e09c097"
      ]
     },
     "execution_count": 100,
     "metadata": {},
     "output_type": "execute_result"
    }
   ],
   "source": [
    "// Not perfect but an okay start\n",
    "def arrayToList[A](array: Array[A]): List[A] = {\n",
    "    if (array == null || array.length == 0) Nil\n",
    "    else if (array.length == 1) List(array(0))\n",
    "    else array(0) :: arrayToList(array.slice(1, array.length))\n",
    "}\n",
    "\n",
    "var z:Array[String] = new Array[String](3)\n",
    "z(0) = \"Zara\"; z(1) = \"Nuha\"; z(4/2) = \"Ayan\"\n",
    "println(arrayToList(z))\n",
    "\n",
    "// 2d\n",
    "import Array._\n",
    "var matrix = ofDim[Int](3,3)\n",
    "for (i <- 0 to 2) {\n",
    "    for ( j <- 0 to 2) {\n",
    "        matrix(i)(j) = j;\n",
    "    }\n",
    "}\n",
    "println(arrayToList(myMatrix))"
   ]
  },
  {
   "cell_type": "markdown",
   "metadata": {},
   "source": [
    "## Collections\n",
    "\n",
    "This concept is always fun when exploration a new language because they all do it differently and syntactic sugar make collection operations really cool and interesting!!"
   ]
  },
  {
   "cell_type": "code",
   "execution_count": 105,
   "metadata": {},
   "outputs": [
    {
     "name": "stdout",
     "output_type": "stream",
     "text": [
      "List(apples, oranges, pears)\n",
      "List(1, 2, 3, 4)\n",
      "squares : List(0, 1, 4, 9, 16, 25)\n",
      "mul : List(List(0, 0, 0, 0, 0), List(0, 1, 2, 3, 4), List(0, 2, 4, 6, 8), List(0, 3, 6, 9, 12))\n"
     ]
    },
    {
     "data": {
      "text/plain": [
       "null"
      ]
     },
     "execution_count": 105,
     "metadata": {},
     "output_type": "execute_result"
    }
   ],
   "source": [
    "//\n",
    "// LISTS\n",
    "// \n",
    "// We've been using lists all throughout this notebook, but let's include some examples anyway\n",
    "//\n",
    "\n",
    "val fruit = \"apples\" :: (\"oranges\" :: (\"pears\" :: Nil))\n",
    "println(fruit)\n",
    "\n",
    "val nums = 1 :: (2 :: (3 :: (4 :: Nil)))\n",
    "println(nums)\n",
    "\n",
    "val squares = List.tabulate(6)(n => n * n)\n",
    "println( \"squares : \" + squares  )\n",
    "\n",
    "val mul = List.tabulate( 4,5 )( _ * _ )      \n",
    "println( \"mul : \" + mul  )"
   ]
  },
  {
   "cell_type": "code",
   "execution_count": 110,
   "metadata": {},
   "outputs": [
    {
     "name": "stdout",
     "output_type": "stream",
     "text": [
      "Set(1, 3, 5, 7)\n",
      "Set(banana, apples, mangoes, pears, oranges)\n",
      "Set(20, 9)\n",
      "Set(6, 9, 45, 30)\n"
     ]
    },
    {
     "data": {
      "text/plain": [
       "null"
      ]
     },
     "execution_count": 110,
     "metadata": {},
     "output_type": "execute_result"
    }
   ],
   "source": [
    "//\n",
    "// Sets\n",
    "//\n",
    "// Pretty straight forward compared to other languages\n",
    "//\n",
    "// check docs for more https://www.tutorialspoint.com/scala/scala_sets.htm\n",
    "//\n",
    "\n",
    "var s = Set(1,3,5,7)\n",
    "println(s)\n",
    "\n",
    "val fruit1 = Set(\"apples\", \"oranges\", \"pears\")\n",
    "val fruit2 = Set(\"mangoes\", \"banana\")\n",
    "println(fruit1 ++ fruit2)\n",
    "\n",
    "val num1 = Set(5,6,9,20,30,45)\n",
    "val num2 = Set(50,60,9,20,35,55)\n",
    "println(num1 & num2)\n",
    "println(num1.filter((a) => a % 3 == 0))"
   ]
  },
  {
   "cell_type": "code",
   "execution_count": 121,
   "metadata": {},
   "outputs": [
    {
     "name": "stdout",
     "output_type": "stream",
     "text": [
      "Map(red -> #FF0000, azure -> #F0FFFF)\n",
      "Map(I -> 1, J -> 5, K -> 10, L -> 100)\n",
      "I\n",
      "J\n",
      "K\n",
      "L\n"
     ]
    },
    {
     "data": {
      "text/plain": [
       "null"
      ]
     },
     "execution_count": 121,
     "metadata": {},
     "output_type": "execute_result"
    }
   ],
   "source": [
    "//\n",
    "// Maps\n",
    "//\n",
    "// key value pairings both mutable and immutable\n",
    "//\n",
    "\n",
    "val colors = Map(\"red\" -> \"#FF0000\", \"azure\" -> \"#F0FFFF\")\n",
    "println(colors)\n",
    "\n",
    "// They can be added upon\n",
    "var A:Map[Char,Int] = Map()\n",
    "A += ('I' -> 1)\n",
    "A += ('J' -> 5)\n",
    "A += ('K' -> 10)\n",
    "A += ('L' -> 100)\n",
    "println(A)\n",
    "\n",
    "// Printing keys\n",
    "A.foreach{\n",
    "    i => println(i._1)\n",
    "}"
   ]
  },
  {
   "cell_type": "code",
   "execution_count": 125,
   "metadata": {},
   "outputs": [
    {
     "name": "stdout",
     "output_type": "stream",
     "text": [
      "(1,5,hello,scala.Console$@314fd526)\n",
      "6\n",
      "Value = 4\n",
      "Value = 3\n",
      "Value = 2\n",
      "Value = 1\n"
     ]
    },
    {
     "data": {
      "text/plain": [
       "null"
      ]
     },
     "execution_count": 125,
     "metadata": {},
     "output_type": "execute_result"
    }
   ],
   "source": [
    "//\n",
    "// Tuples\n",
    "//\n",
    "// These are synonymous accross languages, immutable by nature\n",
    "// and can hold multiple types\n",
    "//\n",
    "\n",
    "val t = (1, 5, \"hello\", Console)\n",
    "println(t)\n",
    "\n",
    "val sum = t._1 + t._2\n",
    "println(sum)\n",
    "\n",
    "val tu = (4,3,2,1)\n",
    "tu.productIterator.foreach{ i =>println(\"Value = \" + i )}"
   ]
  },
  {
   "cell_type": "code",
   "execution_count": 156,
   "metadata": {},
   "outputs": [
    {
     "name": "stdout",
     "output_type": "stream",
     "text": [
      "Some(Hello world)\n",
      "None\n",
      "None\n",
      "Some(Hello!)\n",
      "-------------------------------\n",
      "Gender: potato\n",
      "Gender: male\n",
      "Gender: not specified\n",
      "Gender: female\n"
     ]
    },
    {
     "data": {
      "text/plain": [
       "null"
      ]
     },
     "execution_count": 156,
     "metadata": {},
     "output_type": "execute_result"
    }
   ],
   "source": [
    "//\n",
    "// Options\n",
    "//\n",
    "// This is a bit of a weird concept \"Option[ T ] is a container for zero or one element of a given type\"\n",
    "//\n",
    "// The primary use case that is used on a Map. However after reading\n",
    "// https://danielwestheide.com/blog/2012/12/19/the-neophytes-guide-to-scala-part-5-the-option-type.html\n",
    "// it seems like it's a more fundamental language construct.\n",
    "//\n",
    "// \n",
    "//\n",
    "\n",
    "// Basic initialization of an option\n",
    "val greeting: Option[String] = Some(\"Hello world\")\n",
    "val greetingNone: Option[String] = None\n",
    "\n",
    "println(greeting)\n",
    "println(greetingNone)\n",
    "\n",
    "// Another example of optional values\n",
    "val absentGreeting: Option[String] = Option(null)\n",
    "val presentGreeting: Option[String] = Option(\"Hello!\") \n",
    "\n",
    "println(absentGreeting)\n",
    "println(presentGreeting)\n",
    "\n",
    "// Actual use case\n",
    "println(\"-------------------------------\")\n",
    "\n",
    "// These are essentially POJOs\n",
    "case class User(\n",
    "  id: Int,\n",
    "  firstName: String,\n",
    "  lastName: String,\n",
    "  age: Int,\n",
    "  gender: Option[String])\n",
    "\n",
    "object UserRepository {\n",
    "  private val users = Map(1 -> User(1, \"John\", \"Doe\", 32, Some(\"male\")),\n",
    "                          2 -> User(2, \"Johanna\", \"Doe\", 30, None),\n",
    "                          3 -> User(3, \"Bob\", \"Doe\", 69, Some(\"female\")))\n",
    "  def findById(id: Int): Option[User] = users.get(id)\n",
    "  def findAll = users.values\n",
    "}\n",
    "\n",
    "// using getOrElse we can check for null values\n",
    "val user = User(2, \"Johanna\", \"Doe\", 30, Some(\"potato\"))\n",
    "println(\"Gender: \" + user.gender.getOrElse(\"not specified\"))\n",
    "\n",
    "// we can for each and match if there is somethhing there!\n",
    "UserRepository.findAll.foreach{\n",
    "    user => \n",
    "    user.gender match {\n",
    "        case Some(gender) => println(\"Gender: \" + gender)\n",
    "        case None => println(\"Gender: not specified\")\n",
    "    }\n",
    "}"
   ]
  },
  {
   "cell_type": "code",
   "execution_count": 158,
   "metadata": {},
   "outputs": [
    {
     "name": "stdout",
     "output_type": "stream",
     "text": [
      "a\n",
      "number\n",
      "of\n",
      "words\n",
      "element 0 is apple\n",
      "element 1 is banana\n",
      "element 2 is orange\n"
     ]
    },
    {
     "data": {
      "text/plain": [
       "null"
      ]
     },
     "execution_count": 158,
     "metadata": {},
     "output_type": "execute_result"
    }
   ],
   "source": [
    "//\n",
    "// Iterators\n",
    "//\n",
    "// These are very similar to most other iterator concepts\n",
    "//\n",
    "\n",
    "val it = Iterator(\"a\", \"number\", \"of\", \"words\")  \n",
    "while (it.hasNext){\n",
    "    println(it.next())\n",
    "}\n",
    "\n",
    "val fruits = Array(\"apple\", \"banana\", \"orange\")\n",
    "for ((elem, count) <- fruits.zipWithIndex) {\n",
    "    println(s\"element $count is $elem\")\n",
    "}"
   ]
  },
  {
   "cell_type": "markdown",
   "metadata": {},
   "source": [
    "## Traits\n",
    "\n",
    "These are a really cool concept. The docs refer them as additional mixins to classes or to share interfaces and fields between classes\n",
    "\n",
    "Using `extends` is for only 1 trait\n",
    "\n",
    "`with` is using traits as mixins"
   ]
  },
  {
   "cell_type": "code",
   "execution_count": 14,
   "metadata": {},
   "outputs": [
    {
     "name": "stdout",
     "output_type": "stream",
     "text": [
      "0\n",
      "1\n",
      "tail started\n",
      "Dog is walking\n"
     ]
    },
    {
     "data": {
      "text/plain": [
       "null"
      ]
     },
     "execution_count": 14,
     "metadata": {},
     "output_type": "execute_result"
    }
   ],
   "source": [
    "trait Iterator[A] {\n",
    "  def hasNext: Boolean\n",
    "  def next(): A\n",
    "}\n",
    "\n",
    "class IntIterator(to: Int) extends Iterator[Int] {\n",
    "  private var current = 0\n",
    "  override def hasNext: Boolean = current < to\n",
    "  override def next(): Int =  {\n",
    "    if (hasNext) {\n",
    "      val t = current\n",
    "      current += 1\n",
    "      t\n",
    "    } else 0\n",
    "  }\n",
    "}\n",
    "\n",
    "\n",
    "val iterator = new IntIterator(10)\n",
    "println(iterator.next())\n",
    "println(iterator.next())\n",
    "\n",
    "//---------------------------------------------------\n",
    "\n",
    "abstract class Animal {\n",
    "    def speak\n",
    "}\n",
    "\n",
    "trait WaggingTail {\n",
    "    def startTail { println(\"tail started\") }\n",
    "    def stopTail { println(\"tail stopped\") }\n",
    "}\n",
    "\n",
    "trait FourLeggedAnimal {\n",
    "    def walk\n",
    "    def run\n",
    "}\n",
    "\n",
    "case class Dog(name: String = \"Doggo\") extends Animal with WaggingTail with FourLeggedAnimal {\n",
    "    // implementation code here ...\n",
    "    def speak { println(\"Dog says 'woof'\") }\n",
    "    def walk { println(\"Dog is walking\") }\n",
    "    def run { println(\"Dog is running\") }\n",
    "}\n",
    "\n",
    "val d = new Dog()\n",
    "d.startTail\n",
    "d.walk"
   ]
  },
  {
   "cell_type": "markdown",
   "metadata": {},
   "source": [
    "## Pattern matching\n",
    "\n",
    "Matching in scala is an extremely popular and widely used technique using the `match` keyword. \n",
    "\n",
    "The main appeal of pattern matching and a few of the idioms that result from this idea are an alternative way to do control flow from the normal if/else. It can be used in try/catch expressions, function bodies, use Option/Some/None.\n"
   ]
  },
  {
   "cell_type": "code",
   "execution_count": 28,
   "metadata": {},
   "outputs": [
    {
     "name": "stdout",
     "output_type": "stream",
     "text": [
      "one\n",
      "scala.Int\n",
      "2\n",
      "many\n",
      "None\n",
      "Success(0)\n",
      "Failure(java.lang.ArithmeticException: / by zero)\n",
      "Right(0)\n",
      "Left(Dude, can't divide by 0)\n"
     ]
    },
    {
     "data": {
      "text/plain": [
       "null"
      ]
     },
     "execution_count": 28,
     "metadata": {},
     "output_type": "execute_result"
    }
   ],
   "source": [
    "def matchTest(x: Any): Any = x match {\n",
    "  case 1 => \"one\"\n",
    "  case \"two\" => 2\n",
    "  case y: Int => \"scala.Int\"\n",
    "  case _ => \"many\"\n",
    "}\n",
    "println(matchTest(1))\n",
    "println(matchTest(10))\n",
    "println(matchTest(\"two\"))\n",
    "println(matchTest(\"potato\"))\n",
    "\n",
    "\n",
    "// -------------------------------------\n",
    "\n",
    "import scala.io.Source\n",
    "def readTextFile(filename: String): Option[List[String]] = {\n",
    "    try {\n",
    "        Some(Source.fromFile(filename).getLines.toList)\n",
    "    } catch {\n",
    "        case e: Exception => None\n",
    "    }\n",
    "}\n",
    "println(readTextFile(\"potato\"))\n",
    "\n",
    "// -------------------------------------\n",
    "\n",
    "import scala.util.{Try,Success,Failure}\n",
    "def divideXByY(x: Int, y: Int): Try[Int] = {\n",
    "    Try(x / y)\n",
    "}\n",
    "println(divideXByY(1,2))\n",
    "println(divideXByY(1,0))\n",
    "\n",
    "def divideXByY_2(x: Int, y: Int): Either[String, Int] = {\n",
    "    if (y == 0) Left(\"Dude, can't divide by 0\")\n",
    "    else Right(x / y)\n",
    "}\n",
    "println(divideXByY_2(1,2))\n",
    "println(divideXByY_2(1,0))\n"
   ]
  },
  {
   "cell_type": "markdown",
   "metadata": {},
   "source": [
    "## Regex\n",
    "\n",
    "This is a synonymous concept across programming languages, let's see how scala does it!\n",
    "\n",
    "For subexpressions syntax look here https://www.tutorialspoint.com/scala/scala_regular_expressions.htm"
   ]
  },
  {
   "cell_type": "code",
   "execution_count": 31,
   "metadata": {},
   "outputs": [
    {
     "name": "stdout",
     "output_type": "stream",
     "text": [
      "Some(Scala)\n",
      "Scala,Scala\n"
     ]
    },
    {
     "data": {
      "text/plain": [
       "null"
      ]
     },
     "execution_count": 31,
     "metadata": {},
     "output_type": "execute_result"
    }
   ],
   "source": [
    "import scala.util.matching.Regex\n",
    "val str = \"Scala is Scalable and cool\"\n",
    "\n",
    "val pattern = \"Scala\".r\n",
    "println(pattern findFirstIn str)\n",
    "\n",
    "val pattern2 = new Regex(\"(S|s)cala\")\n",
    "println((pattern2 findAllIn str).mkString(\",\"))"
   ]
  },
  {
   "cell_type": "markdown",
   "metadata": {},
   "source": [
    "## Exceptions\n",
    "\n",
    "Quick exceptions example, we've done a few already in this notebook\n"
   ]
  },
  {
   "cell_type": "code",
   "execution_count": 33,
   "metadata": {},
   "outputs": [
    {
     "name": "stdout",
     "output_type": "stream",
     "text": [
      "Missing file exception\n",
      "Exiting finally...\n"
     ]
    },
    {
     "data": {
      "text/plain": [
       "null"
      ]
     },
     "execution_count": 33,
     "metadata": {},
     "output_type": "execute_result"
    }
   ],
   "source": [
    "import java.io.FileReader\n",
    "import java.io.FileNotFoundException\n",
    "import java.io.IOException\n",
    "\n",
    "try {\n",
    "    val f = new FileReader(\"input.txt\")\n",
    "} catch {\n",
    "    case ex: FileNotFoundException =>{\n",
    "        println(\"Missing file exception\")\n",
    "    }\n",
    "    case ex: IOException => {\n",
    "        println(\"IO Exception\")\n",
    "    }\n",
    "} finally {\n",
    "    println(\"Exiting finally...\")\n",
    "}\n"
   ]
  },
  {
   "cell_type": "markdown",
   "metadata": {},
   "source": [
    "## Extractors\n",
    "\n",
    "This is a new concept I've never seen before in other languages, basically it's just the application of an `unapply` method. \n",
    "\n",
    "It's kind of like breaking the 2nd law of thermodynamisc and revesing entropy. Pretty cool stuff. Or maybe it can just be thought of doing an \"undo\"\n",
    "\n"
   ]
  },
  {
   "cell_type": "code",
   "execution_count": 43,
   "metadata": {},
   "outputs": [
    {
     "name": "stdout",
     "output_type": "stream",
     "text": [
      "10\n",
      "10 is bigger two times than 5\n"
     ]
    },
    {
     "data": {
      "text/plain": [
       "null"
      ]
     },
     "execution_count": 43,
     "metadata": {},
     "output_type": "execute_result"
    }
   ],
   "source": [
    "object DemoExtractor {\n",
    "    def apply(x: Int) = x*2\n",
    "    def unapply(z: Int): Option[Int] = if (z%2==0) Some(z/2) else None\n",
    "}\n",
    "\n",
    "// Smple example of extracting a value\n",
    "// this is just to get a perspective of simplest use case\n",
    "val y = DemoExtractor(10)\n",
    "val DemoExtractor(test) = y\n",
    "println(test)\n",
    "\n",
    "val x = DemoExtractor(5)\n",
    "x match {\n",
    " case DemoExtractor(num) => println(x+\" is bigger two times than \"+num)\n",
    " case _ => println(\"i cannot calculate\")\n",
    "}"
   ]
  },
  {
   "cell_type": "markdown",
   "metadata": {},
   "source": [
    "## For comprehensions\n",
    "\n",
    "This is a little nifty notation to represent for loops in a different way."
   ]
  },
  {
   "cell_type": "code",
   "execution_count": 45,
   "metadata": {},
   "outputs": [
    {
     "name": "stdout",
     "output_type": "stream",
     "text": [
      "(1, 9)\n",
      "(2, 8)\n",
      "(3, 7)\n",
      "(4, 6)\n",
      "(5, 5)\n"
     ]
    },
    {
     "data": {
      "text/plain": [
       "null"
      ]
     },
     "execution_count": 45,
     "metadata": {},
     "output_type": "execute_result"
    }
   ],
   "source": [
    "def foo(n: Int, v: Int) =\n",
    "   for (i <- 0 until n;\n",
    "        j <- i until n if i + j == v)\n",
    "   println(s\"($i, $j)\")\n",
    "\n",
    "foo(10, 10)"
   ]
  },
  {
   "cell_type": "markdown",
   "metadata": {},
   "source": [
    "## Generics\n",
    "\n",
    "These are the same as java \n",
    "\n",
    "```\n",
    "Generic classes are classes which take a type as a parameter. They are particularly useful for collection classes.\n",
    "```\n",
    "\n"
   ]
  },
  {
   "cell_type": "code",
   "execution_count": 60,
   "metadata": {},
   "outputs": [
    {
     "name": "stdout",
     "output_type": "stream",
     "text": [
      "2\n",
      "1\n",
      "$line87.$read$$iw$$iw$Banana@7580fe10\n",
      "$line87.$read$$iw$$iw$Apple@191d2f4e\n"
     ]
    },
    {
     "data": {
      "text/plain": [
       "null"
      ]
     },
     "execution_count": 60,
     "metadata": {},
     "output_type": "execute_result"
    }
   ],
   "source": [
    "class Stack[A] {\n",
    "  private var elements: List[A] = Nil\n",
    "  def push(x: A) { elements = x :: elements }\n",
    "  def peek: A = elements.head\n",
    "  def pop(): A = {\n",
    "    val currentTop = peek\n",
    "    elements = elements.tail\n",
    "    currentTop\n",
    "  }\n",
    "}\n",
    "var stack = new Stack[Int]\n",
    "stack.push(1)\n",
    "stack.push(2)\n",
    "println(stack.pop)\n",
    "println(stack.pop)\n",
    "\n",
    "// -----------------------------------------------\n",
    "\n",
    "// Using this generic A we can define whole new types\n",
    "// and have our stack accpet them\n",
    "\n",
    "class Fruit\n",
    "class Apple extends Fruit\n",
    "class Banana extends Fruit\n",
    "\n",
    "var fruitstack = new Stack[Fruit]\n",
    "val apple = new Apple\n",
    "val banana = new Banana\n",
    "fruitstack.push(apple)\n",
    "fruitstack.push(banana)\n",
    "println(fruitstack.pop())\n",
    "println(fruitstack.pop())"
   ]
  },
  {
   "cell_type": "markdown",
   "metadata": {},
   "source": [
    "## Variances\n",
    "\n",
    "Along with the concept of generics is the idea of variances. This again is very different then other languages I've experienced.\n",
    "\n",
    "So there is a long definition on https://docs.scala-lang.org/tour/variances.html but I'm going to try and break it down into simpler terms\n",
    "\n",
    "* Variance is the correlation of subtyping relationships and of their component types. \n",
    "* Generic classes can be covariant, contravariant, or invariant\n",
    "* Variance makes connections between complex types\n",
    "\n",
    "Basically...\n",
    "\n",
    "\\+ means only accept subtypes\n",
    "\n",
    "\\- means only accept supertypes\n",
    "\n",
    "None means only accept single type"
   ]
  },
  {
   "cell_type": "code",
   "execution_count": 99,
   "metadata": {},
   "outputs": [
    {
     "name": "stdout",
     "output_type": "stream",
     "text": [
      "Whiskers\n",
      "Tom\n",
      "Fido\n",
      "Rex\n",
      "The cat's name is: Boots\n",
      "The animal's name is: Boots\n"
     ]
    },
    {
     "data": {
      "text/plain": [
       "null"
      ]
     },
     "execution_count": 99,
     "metadata": {},
     "output_type": "execute_result"
    }
   ],
   "source": [
    "class Foo[+A] // A covariant class\n",
    "class Bar[-A] // A contravariant class\n",
    "class Baz[A]  // An invariant class\n",
    "\n",
    "// ------------- covariance ---------------\n",
    "\n",
    "abstract class Animal {\n",
    "  def name: String\n",
    "}\n",
    "case class Cat(name: String) extends Animal\n",
    "case class Dog(name: String) extends Animal\n",
    "\n",
    "def printAnimalNames(animals: List[Animal]): Unit = {\n",
    "    animals.foreach { animal =>\n",
    "      println(animal.name)\n",
    "    }\n",
    "}\n",
    "val cats: List[Cat] = List(Cat(\"Whiskers\"), Cat(\"Tom\"))\n",
    "printAnimalNames(cats)\n",
    "val dogs: List[Dog] = List(Dog(\"Fido\"), Dog(\"Rex\"))\n",
    "printAnimalNames(dogs)\n",
    "\n",
    "// ------------ Contravariance ------------\n",
    "\n",
    "abstract class Printer[-A] {\n",
    "  def print(value: A): Unit\n",
    "}\n",
    "\n",
    "class AnimalPrinter extends Printer[Animal] {\n",
    "  def print(animal: Animal): Unit =\n",
    "    println(\"The animal's name is: \" + animal.name)\n",
    "}\n",
    "\n",
    "class CatPrinter extends Printer[Cat] {\n",
    "  def print(cat: Cat): Unit =\n",
    "    println(\"The cat's name is: \" + cat.name)\n",
    "}\n",
    "\n",
    "val myCat: Cat = Cat(\"Boots\")\n",
    "def printMyCat(printer: Printer[Cat]): Unit = {\n",
    "    printer.print(myCat)\n",
    "}\n",
    "val catPrinter: Printer[Cat] = new CatPrinter\n",
    "val animalPrinter: Printer[Animal] = new AnimalPrinter\n",
    "printMyCat(catPrinter)\n",
    "printMyCat(animalPrinter)"
   ]
  },
  {
   "cell_type": "code",
   "execution_count": 100,
   "metadata": {},
   "outputs": [
    {
     "ename": "<console>",
     "evalue": "30",
     "output_type": "error",
     "traceback": [
      "\u001b[1;31m<console>:30: error: type mismatch;\u001b[0;0m",
      "\u001b[1;31m found   : Container[Cat]\u001b[0;0m",
      "\u001b[1;31m required: Container[Animal]\u001b[0;0m",
      "\u001b[1;31mNote: Cat <: Animal, but class Container is invariant in type A.\u001b[0;0m",
      "\u001b[1;31mYou may wish to define A as +A instead. (SLS 4.5)\u001b[0;0m",
      "\u001b[1;31m       val animalContainer: Container[Animal] = catContainer\u001b[0;0m",
      "\u001b[1;31m                                                ^\u001b[0;0m"
     ]
    }
   ],
   "source": [
    "// ------------- Invariance -------------\n",
    "\n",
    "class Container[A](value: A) {\n",
    "  private var _value: A = value\n",
    "  def getValue: A = _value\n",
    "  def setValue(value: A): Unit = {\n",
    "    _value = value\n",
    "  }\n",
    "}\n",
    "\n",
    "val catContainer: Container[Cat] = new Container(Cat(\"Felix\"))\n",
    "val animalContainer: Container[Animal] = catContainer\n",
    "animalContainer.setValue(Dog(\"Spot\"))\n",
    "val cat: Cat = catContainer.getValue // Oops, we'd end up with a Dog assigned to a Cat"
   ]
  },
  {
   "cell_type": "code",
   "execution_count": 101,
   "metadata": {},
   "outputs": [
    {
     "data": {
      "text/plain": [
       "defined class GParent\n",
       "defined class Parent\n",
       "defined class Child\n",
       "defined class SubBox\n",
       "defined class SuperBox\n",
       "foo: (x: SubBox[Parent])SubBox[Parent]\n",
       "bar: (x: SuperBox[Parent])SuperBox[Parent]\n"
      ]
     },
     "execution_count": 101,
     "metadata": {},
     "output_type": "execute_result"
    }
   ],
   "source": [
    "class GParent\n",
    "class Parent extends GParent\n",
    "class Child extends Parent\n",
    "\n",
    "class SubBox[+A] // Only accept subtypes of A\n",
    "class SuperBox[-A] // Only accept supertypes of A\n",
    "\n",
    "def foo(x : SubBox[Parent]) : SubBox[Parent] = identity(x)\n",
    "def bar(x : SuperBox[Parent]) : SuperBox[Parent] = identity(x)"
   ]
  },
  {
   "cell_type": "code",
   "execution_count": 92,
   "metadata": {},
   "outputs": [
    {
     "data": {
      "text/plain": [
       "foo: (x: SubBox[Parent])SubBox[Parent]\n",
       "bar: (x: SuperBox[Parent])SuperBox[Parent]\n"
      ]
     },
     "execution_count": 92,
     "metadata": {},
     "output_type": "execute_result"
    }
   ],
   "source": [
    "def foo(x : SubBox[Parent]) : SubBox[Parent] = identity(x)\n",
    "def bar(x : SuperBox[Parent]) : SuperBox[Parent] = identity(x)"
   ]
  },
  {
   "cell_type": "code",
   "execution_count": 102,
   "metadata": {},
   "outputs": [
    {
     "data": {
      "text/plain": [
       "$line126.$read$$iw$$iw$SubBox@54778f31"
      ]
     },
     "execution_count": 102,
     "metadata": {},
     "output_type": "execute_result"
    }
   ],
   "source": [
    "foo(new SubBox[Child]) // success"
   ]
  },
  {
   "cell_type": "code",
   "execution_count": 103,
   "metadata": {},
   "outputs": [
    {
     "ename": "<console>",
     "evalue": "119",
     "output_type": "error",
     "traceback": [
      "\u001b[1;31m<console>:119: error: type mismatch;\u001b[0;0m",
      "\u001b[1;31m found   : SubBox[GParent]\u001b[0;0m",
      "\u001b[1;31m required: SubBox[Parent]\u001b[0;0m",
      "\u001b[1;31m       foo(new SubBox[GParent]) // type error\u001b[0;0m",
      "\u001b[1;31m           ^\u001b[0;0m"
     ]
    }
   ],
   "source": [
    "foo(new SubBox[GParent]) // type error"
   ]
  },
  {
   "cell_type": "code",
   "execution_count": 104,
   "metadata": {},
   "outputs": [
    {
     "ename": "<console>",
     "evalue": "119",
     "output_type": "error",
     "traceback": [
      "\u001b[1;31m<console>:119: error: type mismatch;\u001b[0;0m",
      "\u001b[1;31m found   : SuperBox[Child]\u001b[0;0m",
      "\u001b[1;31m required: SuperBox[Parent]\u001b[0;0m",
      "\u001b[1;31m       bar(new SuperBox[Child]) // type error\u001b[0;0m",
      "\u001b[1;31m           ^\u001b[0;0m"
     ]
    }
   ],
   "source": [
    "bar(new SuperBox[Child]) // type error"
   ]
  },
  {
   "cell_type": "code",
   "execution_count": 105,
   "metadata": {},
   "outputs": [
    {
     "data": {
      "text/plain": [
       "$line126.$read$$iw$$iw$SuperBox@adacda7"
      ]
     },
     "execution_count": 105,
     "metadata": {},
     "output_type": "execute_result"
    }
   ],
   "source": [
    "bar(new SuperBox[GParent])"
   ]
  },
  {
   "cell_type": "markdown",
   "metadata": {},
   "source": [
    "## Type Bounds\n",
    "\n",
    "This is a really fascinating concept that as far as I'm aware is pretty much unique to scala. \n",
    "\n",
    "The shortest explanation I can come up with on what type bounds is, is that assuming you have an class inheritance tree, type bounds allow you to fix which portion of the tree with funny enough greater than and less than symbols `<:` and `>:`"
   ]
  },
  {
   "cell_type": "code",
   "execution_count": null,
   "metadata": {},
   "outputs": [],
   "source": [
    "trait Thing\n",
    "class Vehicle extends Thing\n",
    "class Car extends Vehicle\n",
    "class Jeep extends Car\n",
    "class Coupe extends Car\n",
    "class Motorcycle extends Vehicle\n",
    "class Bicycle extends Vehicle\n",
    "class Tricycle extends Bicycle\n",
    "\n",
    "class Parking[A](val place: A)"
   ]
  },
  {
   "cell_type": "code",
   "execution_count": 125,
   "metadata": {},
   "outputs": [
    {
     "data": {
      "text/plain": [
       "$line150.$read$$iw$$iw$Parking@52ab1b2"
      ]
     },
     "execution_count": 125,
     "metadata": {},
     "output_type": "execute_result"
    }
   ],
   "source": [
    "class Parking[A >: Bicycle <: Vehicle](val plaza: A)\n",
    "new Parking(new Bicycle)\n",
    "new Parking(new Coupe)\n",
    "new Parking(new Tricycle)"
   ]
  },
  {
   "cell_type": "code",
   "execution_count": 132,
   "metadata": {},
   "outputs": [
    {
     "name": "stdout",
     "output_type": "stream",
     "text": [
      "Array elements added are: 67.89\n",
      "56\n",
      "US\n",
      "\n"
     ]
    },
    {
     "data": {
      "text/plain": [
       "null"
      ]
     },
     "execution_count": 132,
     "metadata": {},
     "output_type": "execute_result"
    }
   ],
   "source": [
    "class Array[+X] {\n",
    "    def add[Y >: X](elem: Y): Array[Y] = new Array[Y] {\n",
    "        override def first: Y = elem\n",
    "        override def retrieve: Array[Y] = Array.this\n",
    "        override def toString() = elem.toString() + \"\\n\" + Array.this.toString()\n",
    "    }\n",
    "    def first: X = sys.error(\"No elements in the Array\")\n",
    "    def retrieve: Array[X] = sys.error(\"Array is empty\")\n",
    "    override def toString() = \"\"\n",
    "}\n",
    "\n",
    "var a: Array[Any] = new Array().add(\"US\");\n",
    "//a = a.add(new Object())\n",
    "a = a.add(56)\n",
    "a = a.add(67.89)\n",
    "println(\"Array elements added are: \" + a)"
   ]
  },
  {
   "cell_type": "code",
   "execution_count": 146,
   "metadata": {},
   "outputs": [
    {
     "data": {
      "text/plain": [
       "defined class Person\n",
       "defined trait Employee\n",
       "defined class EId\n"
      ]
     },
     "execution_count": 146,
     "metadata": {},
     "output_type": "execute_result"
    }
   ],
   "source": [
    "class Person()\n",
    "trait Employee extends Person{\n",
    "  def EmployeeIdexists(x: Any): Boolean\n",
    "}\n",
    "\n",
    "case class EId(a: Int) extends Employee {\n",
    "  def EmployeeIdexists(x: Any): Boolean =\n",
    "    x.isInstanceOf[EId] &&\n",
    "      x.asInstanceOf[EId].a == a\n",
    "}"
   ]
  },
  {
   "cell_type": "code",
   "execution_count": 152,
   "metadata": {},
   "outputs": [
    {
     "name": "stdout",
     "output_type": "stream",
     "text": [
      "Employee Id exists\n"
     ]
    },
    {
     "data": {
      "text/plain": [
       "null"
      ]
     },
     "execution_count": 152,
     "metadata": {},
     "output_type": "execute_result"
    }
   ],
   "source": [
    "val elist: List[EId] = List(EId(25), EId(26), EId(27), EId(28))\n",
    "\n",
    "def findEId[A <: Employee](d: A, ls: List[A]): Boolean =\n",
    "    if (ls.isEmpty) false\n",
    "    else if (d.EmployeeIdexists(ls.head)) true\n",
    "    else findEId[A](d, ls.tail)\n",
    "\n",
    "if ((findEId[EId](EId(28), elist)))\n",
    "    println(\"Employee Id exists\")\n",
    "else \n",
    "    println(\"Employee Id does not exist\")"
   ]
  },
  {
   "cell_type": "code",
   "execution_count": 153,
   "metadata": {},
   "outputs": [
    {
     "data": {
      "text/plain": [
       "ListNode(EuropeanSwallow(),ListNode(AfricanSwallow(),Nil()))"
      ]
     },
     "execution_count": 153,
     "metadata": {},
     "output_type": "execute_result"
    }
   ],
   "source": [
    "// LOWER BOUND\n",
    "\n",
    "trait Node[+B] {\n",
    "  def prepend[U >: B](elem: U): Node[U]\n",
    "}\n",
    "\n",
    "case class ListNode[+B](h: B, t: Node[B]) extends Node[B] {\n",
    "  def prepend[U >: B](elem: U): ListNode[U] = ListNode(elem, this)\n",
    "  def head: B = h\n",
    "  def tail: Node[B] = t\n",
    "}\n",
    "\n",
    "case class Nil[+B]() extends Node[B] {\n",
    "  def prepend[U >: B](elem: U): ListNode[U] = ListNode(elem, this)\n",
    "}\n",
    "\n",
    "trait Bird\n",
    "case class AfricanSwallow() extends Bird\n",
    "case class EuropeanSwallow() extends Bird\n",
    "\n",
    "\n",
    "val africanSwallowList= ListNode[AfricanSwallow](AfricanSwallow(), Nil())\n",
    "val birdList: Node[Bird] = africanSwallowList\n",
    "birdList.prepend(new EuropeanSwallow)"
   ]
  },
  {
   "cell_type": "markdown",
   "metadata": {},
   "source": [
    "## Self types\n",
    "\n",
    "This is an interesting gotcha when using traits and classes\n",
    "\n",
    "basically self-types is a construct to strictly enforce that a trait MUST be used with some other configured trait. In the case below, if you are to use the `Tweeter` trait, it must be used with the `User` trait. Why don't you just have `Tweeter` extend `User`? To keep the mixin methodology of scala"
   ]
  },
  {
   "cell_type": "code",
   "execution_count": 155,
   "metadata": {},
   "outputs": [
    {
     "name": "stdout",
     "output_type": "stream",
     "text": [
      "real Beyoncé: Just spilled my glass of lemonade\n"
     ]
    },
    {
     "data": {
      "text/plain": [
       "null"
      ]
     },
     "execution_count": 155,
     "metadata": {},
     "output_type": "execute_result"
    }
   ],
   "source": [
    "trait User {\n",
    "  def username: String\n",
    "}\n",
    "\n",
    "trait Tweeter {\n",
    "  this: User =>  // reassign this\n",
    "  def tweet(tweetText: String) = println(s\"$username: $tweetText\")\n",
    "}\n",
    "\n",
    "class VerifiedTweeter(val username_ : String) extends Tweeter with User {  // We mixin User because Tweeter required it\n",
    "    def username = s\"real $username_\"\n",
    "}\n",
    "\n",
    "val realBeyoncé = new VerifiedTweeter(\"Beyoncé\")\n",
    "realBeyoncé.tweet(\"Just spilled my glass of lemonade\")  // prints \"real Beyoncé: Just spilled my glass of lemonade\"\n"
   ]
  },
  {
   "cell_type": "markdown",
   "metadata": {},
   "source": [
    "## Implicit paramater\n",
    "\n",
    "Implicit paramaters basically enable scala to fill in paramaters with a type and value even if they are missing. \n",
    "\n",
    "\n",
    "Really neat and nifty idea to apply functionality to multiple different types even when not given"
   ]
  },
  {
   "cell_type": "code",
   "execution_count": 157,
   "metadata": {},
   "outputs": [
    {
     "name": "stdout",
     "output_type": "stream",
     "text": [
      "6\n",
      "abc\n"
     ]
    },
    {
     "data": {
      "text/plain": [
       "null"
      ]
     },
     "execution_count": 157,
     "metadata": {},
     "output_type": "execute_result"
    }
   ],
   "source": [
    "abstract class Monoid[A] {\n",
    "  def add(x: A, y: A): A\n",
    "  def unit: A\n",
    "}\n",
    "\n",
    "implicit val stringMonoid: Monoid[String] = new Monoid[String] {\n",
    "    def add(x: String, y: String): String = x concat y\n",
    "    def unit: String = \"\"\n",
    "}\n",
    "  \n",
    "implicit val intMonoid: Monoid[Int] = new Monoid[Int] {\n",
    "    def add(x: Int, y: Int): Int = x + y\n",
    "    def unit: Int = 0\n",
    "}\n",
    "  \n",
    "def sum[A](xs: List[A])(implicit m: Monoid[A]): A =\n",
    "    if (xs.isEmpty) m.unit\n",
    "    else m.add(xs.head, sum(xs.tail))\n",
    "    \n",
    "println(sum(List(1, 2, 3)))       // uses IntMonoid implicitly\n",
    "println(sum(List(\"a\", \"b\", \"c\"))) // uses StringMonoid implicitly"
   ]
  },
  {
   "cell_type": "markdown",
   "metadata": {},
   "source": [
    "## Polymorphic methods\n",
    "\n",
    "Pretty cool idea still playing off of the type system ideas. Basically allows you to paramaterize paramater types"
   ]
  },
  {
   "cell_type": "code",
   "execution_count": 169,
   "metadata": {},
   "outputs": [
    {
     "name": "stdout",
     "output_type": "stream",
     "text": [
      "List(0, 0, 0, 0)\n",
      "List(asdf, asdf, asdf)\n"
     ]
    },
    {
     "data": {
      "text/plain": [
       "null"
      ]
     },
     "execution_count": 169,
     "metadata": {},
     "output_type": "execute_result"
    }
   ],
   "source": [
    "def dup[T](x: T, n: Int): List[T] =\n",
    "    if (n == 0) \n",
    "        List[T]()\n",
    "    else \n",
    "        x :: dup(x, n - 1)\n",
    "println(dup[Int](0, 4))\n",
    "println(dup(\"asdf\", 3))"
   ]
  },
  {
   "cell_type": "markdown",
   "metadata": {},
   "source": [
    "## Annotations\n",
    "\n",
    "Similar to decorator syntax in python, docs says that these are used to associate meta information with a method"
   ]
  },
  {
   "cell_type": "code",
   "execution_count": 171,
   "metadata": {},
   "outputs": [
    {
     "data": {
      "text/plain": [
       "120"
      ]
     },
     "execution_count": 171,
     "metadata": {},
     "output_type": "execute_result"
    }
   ],
   "source": [
    "import scala.annotation.tailrec\n",
    "\n",
    "def factorial(x: Int): Int = {\n",
    "\n",
    "  @tailrec\n",
    "  def factorialHelper(x: Int, accumulator: Int): Int = {\n",
    "    if (x == 1) accumulator else factorialHelper(x - 1, accumulator * x)\n",
    "  }\n",
    "  factorialHelper(x, 1)\n",
    "}\n",
    "\n",
    "factorial(5)"
   ]
  },
  {
   "cell_type": "markdown",
   "metadata": {},
   "source": [
    "## Imports\n",
    "\n",
    "This is a quick note about imports\n",
    "\n",
    "```scala\n",
    "import users._  // import everything \n",
    "import users.User  // import the class User\n",
    "import users.{User, UserPreferences}  // select members\n",
    "import users.{UserPreferences => UPrefs}  // rename\n",
    "```"
   ]
  },
  {
   "cell_type": "markdown",
   "metadata": {},
   "source": [
    "## Conclusion!\n",
    "\n",
    "So this is a bit of a long notebook...\n",
    "\n",
    "I definately missed a few fundamental concepts of scala, but overall I think that there is enough code here to make an alright reference repository. \n",
    "\n",
    "In the next notebook I will construct some fundamental and simple algorithms!"
   ]
  }
 ],
 "metadata": {
  "kernelspec": {
   "display_name": "Scala",
   "language": "scala",
   "name": "scala"
  },
  "language_info": {
   "codemirror_mode": "text/x-scala",
   "file_extension": ".scala",
   "mimetype": "",
   "name": "Scala",
   "nbconverter_exporter": "",
   "version": "2.11.12"
  },
  "toc": {
   "base_numbering": 1,
   "nav_menu": {},
   "number_sections": false,
   "sideBar": false,
   "skip_h1_title": false,
   "title_cell": "Table of Contents",
   "title_sidebar": "Contents",
   "toc_cell": false,
   "toc_position": {},
   "toc_section_display": false,
   "toc_window_display": false
  }
 },
 "nbformat": 4,
 "nbformat_minor": 2
}
