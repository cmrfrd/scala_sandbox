{
 "cells": [
  {
   "cell_type": "markdown",
   "metadata": {},
   "source": [
    "## Scala Basics\n",
    "\n",
    "By: Alex Comerford (alexanderjcomerford@gmail.com)\n",
    "\n",
    "In this notebook we will be going over all the simple simple basics of the scala programming language as a general overview / reference."
   ]
  },
  {
   "cell_type": "markdown",
   "metadata": {},
   "source": [
    "### The hello world\n",
    "\n",
    "The most basic introduction to any programming language\n",
    "\n",
    "Two example of hello world, normal print, and a normal class. What is interesting the [unit](https://www.scala-lang.org/api/current/scala/Unit.html) subtype."
   ]
  },
  {
   "cell_type": "code",
   "execution_count": 23,
   "metadata": {},
   "outputs": [
    {
     "name": "stdout",
     "output_type": "stream",
     "text": [
      "Hello, Scala!\n"
     ]
    },
    {
     "data": {
      "text/plain": [
       "null"
      ]
     },
     "execution_count": 23,
     "metadata": {},
     "output_type": "execute_result"
    }
   ],
   "source": [
    "println(\"Hello, Scala!\");"
   ]
  },
  {
   "cell_type": "code",
   "execution_count": 25,
   "metadata": {},
   "outputs": [
    {
     "name": "stdout",
     "output_type": "stream",
     "text": [
      "Hello World\n"
     ]
    },
    {
     "data": {
      "text/plain": [
       "null"
      ]
     },
     "execution_count": 25,
     "metadata": {},
     "output_type": "execute_result"
    }
   ],
   "source": [
    "class HelloWorld {\n",
    "  def hello(): Unit = {\n",
    "    println(\"Hello World\")\n",
    "  }\n",
    "}\n",
    "new HelloWorld().hello()\n",
    "\n",
    "/*\n",
    " *  Comments are pretty normal too!\n",
    " */"
   ]
  },
  {
   "cell_type": "markdown",
   "metadata": {},
   "source": [
    "## Syntax\n",
    "\n",
    "Some clarification on some of the intersting scala primitives. This is based off of https://www.tutorialspoint.com/scala/scala_basic_syntax.htm\n",
    "\n",
    "A Scala program is a collection of objects that talk to eachother by the use of methods"
   ]
  },
  {
   "cell_type": "markdown",
   "metadata": {},
   "source": [
    "### Variables\n",
    "\n",
    "So there are two types of variables, namely `var` and `val`. These associate with mutable and immutable variables respectively"
   ]
  },
  {
   "cell_type": "code",
   "execution_count": 30,
   "metadata": {},
   "outputs": [
    {
     "name": "stdout",
     "output_type": "stream",
     "text": [
      "Foo\n",
      "Bar\n"
     ]
    },
    {
     "data": {
      "text/plain": [
       "null"
      ]
     },
     "execution_count": 30,
     "metadata": {},
     "output_type": "execute_result"
    }
   ],
   "source": [
    "// var example\n",
    "var changable_var : String = \"Foo\"\n",
    "println(changable_var)\n",
    "changable_var = \"Bar\"\n",
    "println(changable_var)"
   ]
  },
  {
   "cell_type": "code",
   "execution_count": 32,
   "metadata": {},
   "outputs": [
    {
     "ename": "<console>",
     "evalue": "92",
     "output_type": "error",
     "traceback": [
      "\u001b[1;31m<console>:92: error: reassignment to val\u001b[0;0m",
      "\u001b[1;31m       non_changable = 20\u001b[0;0m",
      "\u001b[1;31m                     ^\u001b[0;0m"
     ]
    }
   ],
   "source": [
    "// val example\n",
    "val non_changable : Int = 10\n",
    "non_changable = 20"
   ]
  },
  {
   "cell_type": "markdown",
   "metadata": {},
   "source": [
    "## Classes\n",
    "\n",
    "In this next example we will create a simple `NDEuclidianVector` class implementation and create some associated methods"
   ]
  },
  {
   "cell_type": "code",
   "execution_count": 270,
   "metadata": {},
   "outputs": [
    {
     "data": {
      "text/plain": [
       "warning: there was one unchecked warning; re-run with -unchecked for details\n",
       "warning: there was one feature warning; re-run with -feature for details\n",
       "defined class MisMatchLengthException\n",
       "product: (xs: List[Double])Double\n",
       "defined class NDEuclidianVector\n"
      ]
     },
     "execution_count": 270,
     "metadata": {},
     "output_type": "execute_result"
    }
   ],
   "source": [
    "// Exception when two vectors are not the same dimension\n",
    "final case class MisMatchLengthException(private val message: String = \"\", \n",
    "                                 private val cause: Throwable = None.orNull)\n",
    "                                 extends Exception(message, cause)\n",
    "\n",
    "// List multiplicative product function\n",
    "def product(xs: List[Double]): Double = (1.0 /: xs) (_ * _)\n",
    "\n",
    "// Class describing the behavior of a euclidian vector\n",
    "class NDEuclidianVector(val inputValues: Double*) {\n",
    "   var values = inputValues    \n",
    "\n",
    "   def norm(): Double = {\n",
    "       math.sqrt(values.map(math.pow(_, 2)).sum)\n",
    "   }\n",
    "    \n",
    "   def dot(that: NDEuclidianVector): Double = {\n",
    "       List(values, that.values).transpose.map( product(_) ).sum\n",
    "   }\n",
    "\n",
    "   def +(that: NDEuclidianVector): NDEuclidianVector = {\n",
    "       if (values.length != that.values.length) {\n",
    "           throw new MisMatchLengthException(s\"Cannot add mismatch length vectors ${values.length} and ${that.values.length}\")\n",
    "       }\n",
    "       val addResult = List(values, that.values).transpose.map((_).sum)\n",
    "       new NDEuclidianVector(addResult: _*)\n",
    "   }\n",
    "    \n",
    "   def -(that: NDEuclidianVector): NDEuclidianVector = {\n",
    "       if (values.length != that.values.length) {\n",
    "           throw new MisMatchLengthException(s\"Cannot add mismatch length vectors ${values.length} and ${that.values.length}\")\n",
    "       }\n",
    "       val subResult = List(values, that.values).transpose.map(v => v(0) - v(1))\n",
    "       new NDEuclidianVector(subResult: _*)\n",
    "   }\n",
    "    \n",
    "    \n",
    "   override def toString(): String = {\n",
    "       List(values) mkString\n",
    "   }\n",
    "}"
   ]
  },
  {
   "cell_type": "code",
   "execution_count": 271,
   "metadata": {},
   "outputs": [
    {
     "name": "stdout",
     "output_type": "stream",
     "text": [
      "5.0\n",
      "List(2.0, 4.0)\n",
      "List(0.0, 0.0)\n",
      "2.23606797749979\n"
     ]
    },
    {
     "data": {
      "text/plain": [
       "null"
      ]
     },
     "execution_count": 271,
     "metadata": {},
     "output_type": "execute_result"
    }
   ],
   "source": [
    "val a = new NDEuclidianVector(1,2)\n",
    "val b = new NDEuclidianVector(1,2)\n",
    "val c = new NDEuclidianVector(1,2,3)\n",
    "\n",
    "println(a.dot(b))\n",
    "println(a + b)\n",
    "println(a - b)\n",
    "println(a.norm())"
   ]
  },
  {
   "cell_type": "markdown",
   "metadata": {},
   "source": [
    "## Animal Class Inheritance\n",
    "In this next cell we will define a few classes to each represent a different animal.\n",
    "\n",
    "This example has been adapted from https://docs.scala-lang.org/tour/pattern-matching.html"
   ]
  },
  {
   "cell_type": "code",
   "execution_count": 272,
   "metadata": {},
   "outputs": [
    {
     "data": {
      "text/plain": [
       "defined object MammalCovering\n",
       "defined object BirdColors\n",
       "defined class Animal\n",
       "defined class Reptile\n",
       "defined class Mammal\n",
       "defined class Bird\n"
      ]
     },
     "execution_count": 272,
     "metadata": {},
     "output_type": "execute_result"
    }
   ],
   "source": [
    "object MammalCovering extends Enumeration {\n",
    "    type MammalCovering = Value\n",
    "    val Hair, Fur, Bald = Value\n",
    "}\n",
    "\n",
    "object BirdColors extends Enumeration {\n",
    "    type BirdColors = Value\n",
    "    val Red, Amber, Green, Blue, Brown, White = Value\n",
    "}\n",
    "\n",
    "abstract class Animal\n",
    "case class Reptile(name: String, appendages: Int, description: String) extends Animal\n",
    "case class Mammal(name: String, covering: MammalCovering.MammalCovering, description: String) extends Animal\n",
    "case class Bird(name: String, colors: Seq[BirdColors.BirdColors], description: String) extends Animal\n",
    "// We won't bother with Amphibians, they're slimy"
   ]
  },
  {
   "cell_type": "code",
   "execution_count": 274,
   "metadata": {},
   "outputs": [
    {
     "name": "stdout",
     "output_type": "stream",
     "text": [
      "Animals made!\n"
     ]
    },
    {
     "data": {
      "text/plain": [
       "null"
      ]
     },
     "execution_count": 274,
     "metadata": {},
     "output_type": "execute_result"
    }
   ],
   "source": [
    "val eagle = Bird(\"Charles\", List(BirdColors.Brown, BirdColors.White), \"Beautiful and majestic :)\")\n",
    "val lizard = Reptile(\"Bobby\", 4, \"Agile and aware, lives for the sun!\")\n",
    "val nakedMoleRat = Mammal(\"Susan\", MammalCovering.Bald, \"Hairless, Smart, and Blind, but great at the dinner table.\")\n",
    "\n",
    "println(\"Animals made!\")"
   ]
  },
  {
   "cell_type": "code",
   "execution_count": 278,
   "metadata": {},
   "outputs": [
    {
     "name": "stdout",
     "output_type": "stream",
     "text": [
      "Charles is a beatiful bird with beautiful List(Brown, White) feathers!\n",
      "Bobby is a gorgeous reptile with 4 strong arms/legs!\n",
      "Susan is a fabulous mammal with Bald to keep it warm during the winter!\n"
     ]
    },
    {
     "data": {
      "text/plain": [
       "null"
      ]
     },
     "execution_count": 278,
     "metadata": {},
     "output_type": "execute_result"
    }
   ],
   "source": [
    "def describeAnimal(animal: Animal): String = {\n",
    "  animal match {\n",
    "    case Bird(name, colors, _) =>\n",
    "      s\"$name is a beatiful bird with beautiful $colors feathers!\"\n",
    "    case Reptile(name, appendages, _) =>\n",
    "      s\"$name is a gorgeous reptile with $appendages strong arms/legs!\"\n",
    "    case Mammal(name, covering, _) =>\n",
    "      s\"$name is a fabulous mammal with $covering to keep it warm during the winter!\"\n",
    "  }\n",
    "}\n",
    "\n",
    "println(describeAnimal(eagle))\n",
    "println(describeAnimal(lizard))\n",
    "println(describeAnimal(nakedMoleRat))"
   ]
  },
  {
   "cell_type": "markdown",
   "metadata": {},
   "source": [
    "Maybe Susan should go buy a jacket before winter rolls around..."
   ]
  },
  {
   "cell_type": "markdown",
   "metadata": {},
   "source": [
    "## Implicit classes\n",
    "\n",
    "This concept is quite interesting. It allows us to extend functionality to an object without editing it!\n",
    "\n",
    "This example is from the scala docs (https://www.tutorialspoint.com/scala/scala_classes_objects.htm) and essentially allows us to run a functino multiple times but using a very different syntax\n",
    "\n",
    "Instead of \n",
    "```\n",
    "<funcname>()\n",
    "<funcname>()\n",
    "<funcname>()\n",
    "<funcname>()\n",
    "```\n",
    "\n",
    "or\n",
    "```\n",
    "for ( b <- 1 until 4) {\n",
    "    <funcname>()\n",
    "}\n",
    "```\n",
    "\n",
    "We can do \n",
    "```\n",
    "4 times <funcname>()\n",
    "```\n",
    "\n",
    "This can lead to some very interesting ways to write code!"
   ]
  },
  {
   "cell_type": "code",
   "execution_count": null,
   "metadata": {},
   "outputs": [],
   "source": [
    "implicit class IntTimes(x: Int) {\n",
    "  def times [A](f: =>A): Unit = {\n",
    "     def loop(current: Int): Unit =\n",
    "\n",
    "     if(current > 0){\n",
    "        f\n",
    "        loop(current - 1)\n",
    "     }\n",
    "     loop(x)\n",
    "  }\n",
    "}"
   ]
  },
  {
   "cell_type": "code",
   "execution_count": 300,
   "metadata": {},
   "outputs": [
    {
     "name": "stdout",
     "output_type": "stream",
     "text": [
      "Hellooo\n",
      "Hellooo\n",
      "Hellooo\n",
      "Hellooo\n"
     ]
    },
    {
     "data": {
      "text/plain": [
       "null"
      ]
     },
     "execution_count": 300,
     "metadata": {},
     "output_type": "execute_result"
    }
   ],
   "source": [
    "var hello = (numO: Int) => println(\"Hell\" + (\"o\" * numO)) \n",
    "4 times hello(3)"
   ]
  },
  {
   "cell_type": "markdown",
   "metadata": {},
   "source": [
    "#### Another example, donuts!!\n",
    "\n",
    "We can use implicit classes in other ways too! Using this example http://allaboutscala.com/tutorials/chapter-3-beginner-tutorial-using-classes-scala/scala-tutorial-learn-use-implicit-class-extension-methods/ we will go into more detail"
   ]
  },
  {
   "cell_type": "markdown",
   "metadata": {},
   "source": [
    "Here we define a simple class donut. The only different thing here is the "
   ]
  },
  {
   "cell_type": "code",
   "execution_count": null,
   "metadata": {},
   "outputs": [],
   "source": []
  },
  {
   "cell_type": "code",
   "execution_count": 304,
   "metadata": {},
   "outputs": [
    {
     "ename": "<console>",
     "evalue": "144",
     "output_type": "error",
     "traceback": [
      "\u001b[1;31m<console>:144: error: not found: value request\u001b[0;0m",
      "\u001b[1;31m       val name: Option[String] = request getParameter \"name\"\u001b[0;0m",
      "\u001b[1;31m                                  ^\u001b[0;0m"
     ]
    }
   ],
   "source": [
    "val name: Option[String] = request getParameter \"name\"\n",
    "val upper = name map { _.trim } filter { _.length != 0 } map { _.toUpperCase }\n",
    "println(upper getOrElse \"\")"
   ]
  },
  {
   "cell_type": "code",
   "execution_count": null,
   "metadata": {},
   "outputs": [],
   "source": [
    "case class Donut(name: String, \n",
    "                 price: Double, \n",
    "                 productCode: Option[Long] = None)"
   ]
  },
  {
   "cell_type": "code",
   "execution_count": 305,
   "metadata": {},
   "outputs": [
    {
     "ename": "java.lang.NullPointerException",
     "evalue": "java.lang.NullPointerException",
     "output_type": "error",
     "traceback": [
      "\u001b[1;31mjava.lang.NullPointerException\u001b[0;0m"
     ]
    }
   ],
   "source": [
    "val vanillaDonut: Donut = Donut(\"Vanilla\", 1.50)"
   ]
  },
  {
   "cell_type": "code",
   "execution_count": 306,
   "metadata": {},
   "outputs": [
    {
     "ename": "java.lang.NullPointerException",
     "evalue": "java.lang.NullPointerException",
     "output_type": "error",
     "traceback": [
      "\u001b[1;31mjava.lang.NullPointerException\u001b[0;0m"
     ]
    }
   ],
   "source": [
    "object DonutImplicits {\n",
    " implicit class AugmentedDonut(donut: Donut) {\n",
    "  def uuid: String = s\"${donut.name} - ${donut.productCode.getOrElse(12345)}\"\n",
    " }\n",
    "}"
   ]
  },
  {
   "cell_type": "code",
   "execution_count": null,
   "metadata": {},
   "outputs": [],
   "source": []
  }
 ],
 "metadata": {
  "kernelspec": {
   "display_name": "Scala",
   "language": "scala",
   "name": "scala"
  },
  "language_info": {
   "codemirror_mode": "text/x-scala",
   "file_extension": ".scala",
   "mimetype": "",
   "name": "Scala",
   "nbconverter_exporter": "",
   "version": "2.11.12"
  },
  "toc": {
   "base_numbering": 1,
   "nav_menu": {},
   "number_sections": false,
   "sideBar": false,
   "skip_h1_title": false,
   "title_cell": "Table of Contents",
   "title_sidebar": "Contents",
   "toc_cell": false,
   "toc_position": {},
   "toc_section_display": false,
   "toc_window_display": false
  }
 },
 "nbformat": 4,
 "nbformat_minor": 2
}
