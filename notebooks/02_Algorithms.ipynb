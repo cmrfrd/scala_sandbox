{
 "cells": [
  {
   "cell_type": "markdown",
   "metadata": {},
   "source": [
    "## Scala Algorithms\n",
    "\n",
    "By: Alex Comerford (alexanderjcomerford@gmail.com)\n",
    "\n",
    "In this notebook we will be going over some simple algorithms implemented scala along with examples and utility functions\n",
    "\n",
    "This notebook is based off of the works of\n",
    "* http://scalacookbook.com/\n",
    "* https://github.com/ashawley/algs/\n",
    "* https://github.com/vkostyukov/scalacaster\n",
    "* https://github.com/kimxogus/algorithms-scala/"
   ]
  },
  {
   "cell_type": "markdown",
   "metadata": {},
   "source": [
    "## Binary search\n",
    "\n",
    "This is a fundamental algorithm which searches through a sequence of sorted integers by partitioning the entire sequence into 2, doing a single comparison, then repeating until 1 element remains. This is awesome because at most this search does *O* (log n) comparisons"
   ]
  },
  {
   "cell_type": "code",
   "execution_count": 203,
   "metadata": {},
   "outputs": [
    {
     "data": {
      "text/plain": [
       "warning: there was one feature warning; re-run with -feature for details\n",
       "import scala.util.{Try, Random}\n",
       "sampleRemove: [A](items: List[A], remove: Int)Vector[A]\n",
       "search: (k: Int, a: Seq[Int])Int\n"
      ]
     },
     "execution_count": 203,
     "metadata": {},
     "output_type": "execute_result"
    }
   ],
   "source": [
    "import scala.util.{Try, Random}\n",
    "\n",
    "// utility function to generate a random list of ordered numbers\n",
    "def sampleRemove[A](items:List[A], remove:Int) = {\n",
    "    def collect(vect: Vector[A], sampleSize: Int, acc : List[A]) : Vector[A] = {\n",
    "        if (sampleSize == 0) {\n",
    "            vect\n",
    "        } else if (vect.length == 0) {\n",
    "            vect\n",
    "        } else {\n",
    "            val index = Random.nextInt(vect.size)\n",
    "            collect( vect.patch(index, Nil, 1), sampleSize - 1, vect(index) :: acc)\n",
    "        }\n",
    "    }\n",
    "    collect(items toVector, remove, Nil)\n",
    "}\n",
    "\n",
    "// num to search, all nums\n",
    "def search(k: Int, a: Seq[Int]) = {\n",
    "    @annotation.tailrec\n",
    "    def search2(lo: Int, mid: Int, hi: Int): Int = {\n",
    "      Try(a(mid)).toOption match {\n",
    "        case Some(x) if lo > hi => -1\n",
    "        case Some(x) if x == k => mid\n",
    "        case Some(x) if x > k => search2(lo, (mid - lo) / 2, mid - 1)\n",
    "        case Some(x) if x < k => search2(mid + 1, mid + 1 + (hi - mid) / 2, hi)\n",
    "        case None => -1\n",
    "      }\n",
    "    }\n",
    "    search2(0, a.length / 2, a.length - 1)\n",
    "}"
   ]
  },
  {
   "cell_type": "markdown",
   "metadata": {},
   "source": [
    "## Search a list of 1000 elements\n",
    "\n",
    "In the next cell we will use these two functions to search a list"
   ]
  },
  {
   "cell_type": "code",
   "execution_count": 204,
   "metadata": {},
   "outputs": [
    {
     "name": "stdout",
     "output_type": "stream",
     "text": [
      "Searching for 2471\n",
      "Item located at index 253, item value = 2471\n"
     ]
    },
    {
     "data": {
      "text/plain": [
       "null"
      ]
     },
     "execution_count": 204,
     "metadata": {},
     "output_type": "execute_result"
    }
   ],
   "source": [
    "val randList = sampleRemove(items = 1 to 10000 toList, \n",
    "                            remove = 9000)\n",
    "val randItem = randList(Random.nextInt(1000))\n",
    "\n",
    "println(s\"Searching for ${randItem}\")\n",
    "val index = search(randItem, randList)\n",
    "println(s\"Item located at index $index, item value = ${randList(index)}\")"
   ]
  },
  {
   "cell_type": "markdown",
   "metadata": {},
   "source": [
    "## Sorting!\n",
    "\n",
    "In this next cell we will put two sorting algorithms\n",
    "\n",
    "The Bubble sorting algorithm is one of the most simplest sorting algorithms out there and is extremely easy to implement. At a whopping effecency of О(n^2) this algorithm is slooooow given a large array compared to other Time complexities. However it is extremely easy to read and can be easily implemented recursively\n",
    "\n",
    "The MergeSorting sorting algorithm is one of my personal favorites because of it's clevar use of recusion. Even though its space requirement isn't the most efficent (Θ(n) compared to other more efficent Θ(1)), it's design and implementation accross languages is consistently simple and elegant."
   ]
  },
  {
   "cell_type": "code",
   "execution_count": 205,
   "metadata": {},
   "outputs": [
    {
     "data": {
      "text/plain": [
       "bubbleSort: (a: List[Int])List[Int]\n",
       "mergeSort: (a: List[Int])List[Int]\n"
      ]
     },
     "execution_count": 205,
     "metadata": {},
     "output_type": "execute_result"
    }
   ],
   "source": [
    "def bubbleSort(a: List[Int]): List[Int] = {\n",
    "    def bubble(a: List[Int]): List[Int] = {\n",
    "        a match {\n",
    "            case Nil => Nil\n",
    "            case a :: Nil => a :: Nil           // when the end of a list is reached, return\n",
    "            case a :: b :: aa =>                // comparison!\n",
    "                if (b < a) b :: bubble(a :: aa) // reverse position defined in case\n",
    "                else a :: bubble(b :: aa)       // keep position defined in case\n",
    "        }\n",
    "    }\n",
    "    a match {\n",
    "        case Nil => Nil\n",
    "        case a :: aa => bubble(a :: bubbleSort(aa))\n",
    "    }\n",
    "}\n",
    "\n",
    "def mergeSort(a: List[Int]): List[Int] = {\n",
    "    def merge(a: List[Int], b: List[Int]): List[Int] = {\n",
    "        (a, b) match {\n",
    "            case (Nil, b) => b                       // no left entry to compare, return \n",
    "            case (a, Nil) => a                       // no left entry to compare, return\n",
    "            case (a :: aa, b :: bb) =>               // comparison!!! we are sorting left to right\n",
    "                if (a < b) a :: merge(aa, b :: bb)   // order stays just like case, merge right\n",
    "                else b :: merge(a :: aa, bb)         // switch order, merge left\n",
    "        }\n",
    "    }\n",
    "    // match some base cases to end early\n",
    "    a match {\n",
    "        case Nil => Nil\n",
    "        case x :: Nil => a\n",
    "        case a => {\n",
    "            val half = a.length / 2\n",
    "            val (a1, a2) = a.splitAt(half) // hooray pattern matching!\n",
    "            merge(sort(a1), sort(a2))\n",
    "        }\n",
    "    }\n",
    "}"
   ]
  },
  {
   "cell_type": "markdown",
   "metadata": {},
   "source": [
    "## Sorting 1000 elements\n",
    "\n",
    "In this next cell we will sort 1000 randomly shuffled elements using these two functions and compare performance!\n",
    "\n",
    "SPOILER ALERT!!!!\n",
    "Bubble sort is slower"
   ]
  },
  {
   "cell_type": "code",
   "execution_count": 206,
   "metadata": {},
   "outputs": [
    {
     "name": "stdout",
     "output_type": "stream",
     "text": [
      "Elapsed time: 0.0041125960000000005s\n",
      "Elapsed time: 0.220723041s\n"
     ]
    },
    {
     "data": {
      "text/plain": [
       "null"
      ]
     },
     "execution_count": 206,
     "metadata": {},
     "output_type": "execute_result"
    }
   ],
   "source": [
    "import scala.math.pow\n",
    "def time[R](block: => R): R = {\n",
    "    val t0: Double = System.nanoTime()\n",
    "    val result = block    // call-by-name\n",
    "    val t1: Double = System.nanoTime()\n",
    "    println(\"Elapsed time: \" + (t1 - t0) * pow(10,-9) + \"s\")\n",
    "    result\n",
    "}\n",
    "\n",
    "{ \n",
    "    time { mergeSort { Random.shuffle { 1 until 1000 toList } } }\n",
    "}\n",
    "{\n",
    "    time { bubbleSort { Random.shuffle { 1 until 1000 toList } } } \n",
    "}"
   ]
  },
  {
   "cell_type": "markdown",
   "metadata": {},
   "source": [
    "## Roman numeral conversion\n",
    "\n",
    "This is a little and cute algorithm to convert base10 integers into roman numerals. Roman numerals are an interesting number system because they are an additive and subtractive number system based on certain axiomatic symbols put in different combinations to represent a numeric value.\n",
    "\n",
    "In this next cell we will convert integers to roman numerals by use of greatest element subtraction where elements are searched in a descending lookup table. This table could be arbitrarily complex depending how detailed you want your subtractive or additive notation to be."
   ]
  },
  {
   "cell_type": "code",
   "execution_count": 207,
   "metadata": {},
   "outputs": [
    {
     "data": {
      "text/plain": [
       "intToRoman: (x: Int)String\n"
      ]
     },
     "execution_count": 207,
     "metadata": {},
     "output_type": "execute_result"
    }
   ],
   "source": [
    "def intToRoman(x: Int): String = {\n",
    "    val digits = List(1000 ->  \"M\", 900 -> \"CM\", 500 ->  \"D\", \n",
    "                       400 -> \"CD\", 100 ->  \"C\",  90 -> \"XC\", \n",
    "                        50 ->  \"L\",  40 -> \"XL\",  10 ->  \"X\", \n",
    "                         9 -> \"IX\",   5 ->  \"V\",   4 -> \"IV\", \n",
    "                         1 ->  \"I\")\n",
    "\n",
    "    def loop(l: List[(Int, String)], y: Int): String =\n",
    "      if (y == 0) \"\"\n",
    "      else l.head match {\n",
    "        case (v, s) if (v <= y) => s + loop(l, y - v)\n",
    "        case _ => loop(l.tail, y)\n",
    "      }\n",
    "\n",
    "    loop(digits, x)\n",
    "}"
   ]
  },
  {
   "cell_type": "code",
   "execution_count": 208,
   "metadata": {},
   "outputs": [
    {
     "name": "stdout",
     "output_type": "stream",
     "text": [
      "XXXVII\n",
      "CCCLVII\n",
      "CCCLXXXIII\n",
      "DXXXV\n",
      "DLXXXV\n",
      "DCLXXIX\n",
      "DCCCXLIV\n",
      "CMVII\n",
      "CMXXXVII\n",
      "CMXL\n"
     ]
    },
    {
     "data": {
      "text/plain": [
       "null"
      ]
     },
     "execution_count": 208,
     "metadata": {},
     "output_type": "execute_result"
    }
   ],
   "source": [
    "val randList = sampleRemove(items = 1 to 1000 toList, \n",
    "                            remove = 990)\n",
    "\n",
    "randList.map{_.toInt} foreach(e => println(intToRoman(e)))"
   ]
  },
  {
   "cell_type": "markdown",
   "metadata": {},
   "source": [
    "## Flatten\n",
    "\n",
    "This is fairly straight forward algorithm to flatten an potentially multi nested array. One interesting use case of flatten in the python numpy package is to flatten 2D pixel arrays into a single vector (see https://www.safaribooksonline.com/library/view/programming-computer-vision/9781449341916/ch01.html)"
   ]
  },
  {
   "cell_type": "code",
   "execution_count": 209,
   "metadata": {},
   "outputs": [
    {
     "name": "stdout",
     "output_type": "stream",
     "text": [
      "List(1, 2, 3, 4, 5, 6)\n",
      "List(1, 2, 3, 4, 5, 6)\n"
     ]
    },
    {
     "data": {
      "text/plain": [
       "null"
      ]
     },
     "execution_count": 209,
     "metadata": {},
     "output_type": "execute_result"
    }
   ],
   "source": [
    "def flatten(e: Any): List[Any] = {\n",
    "    e match {\n",
    "        case Nil => Nil\n",
    "        case head :: rest => flatten(head) ++ flatten(rest)\n",
    "        case v => List(v)\n",
    "    }\n",
    "}\n",
    "\n",
    "val nested1 = List(List(List(1,2), List(3,4)), List(List(5,6)))\n",
    "val nested2 = List(List(List(1,2, 3,4)), List(List(5,6)))\n",
    "println(flatten(nested1))\n",
    "println(flatten(nested2))"
   ]
  },
  {
   "cell_type": "markdown",
   "metadata": {},
   "source": [
    "## GCD and LCM\n",
    "\n",
    "These are some pretty fundamental number theory algorithms greatest common divisor and least common multiple"
   ]
  },
  {
   "cell_type": "code",
   "execution_count": 210,
   "metadata": {},
   "outputs": [
    {
     "data": {
      "text/plain": [
       "gcd: (x: Int, y: Int)Int\n",
       "lcm: (x: Int, y: Int)Int\n"
      ]
     },
     "execution_count": 210,
     "metadata": {},
     "output_type": "execute_result"
    }
   ],
   "source": [
    "def gcd(x: Int, y: Int): Int = \n",
    "    if (y == 0) x else gcd (y, x % y)\n",
    "\n",
    "def lcm(x: Int, y: Int): Int = \n",
    "    math.abs(x * y) / gcd(x, y)"
   ]
  },
  {
   "cell_type": "code",
   "execution_count": 211,
   "metadata": {},
   "outputs": [
    {
     "name": "stdout",
     "output_type": "stream",
     "text": [
      "6\n",
      "3\n",
      "405810\n",
      "806610\n"
     ]
    },
    {
     "data": {
      "text/plain": [
       "null"
      ]
     },
     "execution_count": 211,
     "metadata": {},
     "output_type": "execute_result"
    }
   ],
   "source": [
    "println(gcd(5010,486))\n",
    "println(gcd(5010,483))\n",
    "println(lcm(5010,486))\n",
    "println(lcm(5010,483))"
   ]
  },
  {
   "cell_type": "markdown",
   "metadata": {},
   "source": [
    "## Palindrome\n",
    "\n",
    "There are much easier ways to do this but iterating indices from beggining to end and end to beggining comparing characters is a pretty good algorithm\n"
   ]
  },
  {
   "cell_type": "code",
   "execution_count": 212,
   "metadata": {},
   "outputs": [
    {
     "data": {
      "text/plain": [
       "isPalindrome: (s: String)Boolean\n"
      ]
     },
     "execution_count": 212,
     "metadata": {},
     "output_type": "execute_result"
    }
   ],
   "source": [
    "def isPalindrome(s: String): Boolean = {\n",
    "    def loop(i: Int, j: Int): Boolean =\n",
    "      if (i >= j) true\n",
    "      else if (s.charAt(i) == s.charAt(j)) loop(i + 1, j - 1)\n",
    "      else false\n",
    "    loop(0, s.length - 1)\n",
    "}"
   ]
  },
  {
   "cell_type": "code",
   "execution_count": 213,
   "metadata": {},
   "outputs": [
    {
     "name": "stdout",
     "output_type": "stream",
     "text": [
      "true\n",
      "false\n"
     ]
    },
    {
     "data": {
      "text/plain": [
       "null"
      ]
     },
     "execution_count": 213,
     "metadata": {},
     "output_type": "execute_result"
    }
   ],
   "source": [
    "println(isPalindrome(\"tacocat\"))\n",
    "println(isPalindrome(\"potato\"))"
   ]
  },
  {
   "cell_type": "markdown",
   "metadata": {},
   "source": []
  },
  {
   "cell_type": "code",
   "execution_count": null,
   "metadata": {},
   "outputs": [],
   "source": []
  },
  {
   "cell_type": "code",
   "execution_count": null,
   "metadata": {},
   "outputs": [],
   "source": []
  }
 ],
 "metadata": {
  "kernelspec": {
   "display_name": "Scala",
   "language": "scala",
   "name": "scala"
  },
  "language_info": {
   "codemirror_mode": "text/x-scala",
   "file_extension": ".scala",
   "mimetype": "",
   "name": "Scala",
   "nbconverter_exporter": "",
   "version": "2.11.12"
  },
  "toc": {
   "base_numbering": 1,
   "nav_menu": {},
   "number_sections": false,
   "sideBar": false,
   "skip_h1_title": false,
   "title_cell": "Table of Contents",
   "title_sidebar": "Contents",
   "toc_cell": false,
   "toc_position": {},
   "toc_section_display": false,
   "toc_window_display": false
  }
 },
 "nbformat": 4,
 "nbformat_minor": 2
}
