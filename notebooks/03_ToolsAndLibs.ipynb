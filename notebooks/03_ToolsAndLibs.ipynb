{
 "cells": [
  {
   "cell_type": "markdown",
   "metadata": {},
   "source": [
    "## Tools And Libs\n",
    "\n",
    "By: Alex Comerford (alexanderjcomerford@gmail.com)\n",
    "\n",
    "In this notebook we will be going over a bunch of tools and libraries commonly used in scala to do actual useful work for common software tasks."
   ]
  },
  {
   "cell_type": "markdown",
   "metadata": {},
   "source": [
    "## Multi line string tokenization\n",
    "\n",
    "A common problem in NLP is tokenization of text. In this next cell we will implement a multiline word tokenizer extractor to parse multi line strings into a list of words, then count those words in a table."
   ]
  },
  {
   "cell_type": "code",
   "execution_count": 89,
   "metadata": {},
   "outputs": [
    {
     "data": {
      "application/vnd.jupyter.widget-view+json": {
       "model_id": "7de20708-10c8-44eb-8d51-b290c63bfaf2",
       "version_major": 2,
       "version_minor": 0
      },
      "method": "display_data"
     },
     "metadata": {},
     "output_type": "display_data"
    }
   ],
   "source": [
    "object MultiLineTokenize {\n",
    "    def apply(s: String): Any = \n",
    "        s.split(\"\\n\")\n",
    "         .toList\n",
    "         .map(_.trim)\n",
    "         .filter(_ != \"\")\n",
    "         .map(_.split(\" \").toList)\n",
    "}\n",
    "\n",
    "def flatten(e: Any): List[Any] = {\n",
    "    e match {\n",
    "        case Nil => Nil\n",
    "        case head :: rest => flatten(head) ++ flatten(rest)\n",
    "        case v => List(v)\n",
    "    }\n",
    "}\n",
    "\n",
    "val input = \"\"\"\n",
    "This is a thing\n",
    "sentences are yay\n",
    "I like potatoes\n",
    "They are much yum\n",
    "\"\"\"\n",
    "flatten(MultiLineTokenize(input)).groupBy(identity).mapValues(_.size)"
   ]
  },
  {
   "cell_type": "code",
   "execution_count": null,
   "metadata": {},
   "outputs": [],
   "source": []
  }
 ],
 "metadata": {
  "kernelspec": {
   "display_name": "Scala",
   "language": "scala",
   "name": "scala"
  },
  "language_info": {
   "codemirror_mode": "text/x-scala",
   "file_extension": ".scala",
   "mimetype": "",
   "name": "Scala",
   "nbconverter_exporter": "",
   "version": "2.11.12"
  },
  "toc": {
   "base_numbering": 1,
   "nav_menu": {},
   "number_sections": false,
   "sideBar": false,
   "skip_h1_title": false,
   "title_cell": "Table of Contents",
   "title_sidebar": "Contents",
   "toc_cell": false,
   "toc_position": {},
   "toc_section_display": false,
   "toc_window_display": false
  }
 },
 "nbformat": 4,
 "nbformat_minor": 2
}
