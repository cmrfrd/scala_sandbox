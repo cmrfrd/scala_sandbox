{
 "cells": [
  {
   "cell_type": "markdown",
   "metadata": {},
   "source": [
    "## Collections\n",
    "\n",
    "By: Alex Comerford (alexanderjcomerford@gmail.com)\n",
    "\n",
    "In this notebook we will go over all of scalas collections classes.\n",
    "\n",
    "This notebook is to emphasize the importance and utility nature of collections\n",
    "\n",
    "Most of this code is collected from these sources\n",
    "\n",
    "* https://www.cs.helsinki.fi/u/wikla/OTS/Sisalto/examples/\n",
    "* https://alvinalexander.com/scala/"
   ]
  },
  {
   "cell_type": "code",
   "execution_count": 2,
   "metadata": {},
   "outputs": [
    {
     "data": {
      "text/plain": [
       "[[2, 4, 6, 8]]"
      ]
     },
     "execution_count": 2,
     "metadata": {},
     "output_type": "execute_result"
    }
   ],
   "source": [
    "// An example of an implicit loop\n",
    "for { e <- List.range(1, 10) if e % 2 == 0} yield e"
   ]
  },
  {
   "cell_type": "code",
   "execution_count": 3,
   "metadata": {},
   "outputs": [
    {
     "name": "stdout",
     "output_type": "stream",
     "text": [
      "3 6 9 12\n",
      "10 11 12 18 19\n",
      "My n\n",
      "MY NAME IS ALEX!\n",
      "My n4me is 4lex!\n",
      "Vector(1, 2, 4)\n",
      "Vector(1, 2, 3, 90, 91, 92, 93, 94)\n",
      "ArrayBuffer(81, 71, 54, 58, 65, 61, 72, 77, 14, 90)\n",
      "ArrayBuffer(81, 71, 54, 58, 65, 61, 72, 77, 14, 90, 1)\n",
      "ArrayBuffer(81, 71, 54, 58, 65, 61, 72, 77, 90)\n",
      "Queue(b, c)\n",
      "b\n",
      "Sentence\n",
      "Sentence a is This \n",
      "Set(1, 19, 6, 18, 10, 7, 14, 11, 8)\n",
      "Set(0, 1, 3, 18, 10, 4, 11, 12, 19, 5, 6, 7, 14, 8)\n",
      "Set(0, 15, 1, 2, 3, 18, 10, 4, 11, 12, 19, 5, 6, 7, 14, 8)\n",
      "Map(apple -> 7, potato -> 10, tomato -> 3)\n",
      "true\n"
     ]
    },
    {
     "data": {
      "text/plain": [
       "null"
      ]
     },
     "execution_count": 3,
     "metadata": {},
     "output_type": "execute_result"
    }
   ],
   "source": [
    "import scala.collection._\n",
    "import scala.collection.mutable.{Queue, Stack, ArrayBuffer, Set, HashMap}\n",
    "\n",
    "val arrayExample = Array(1,2,3,4)\n",
    "println(arrayExample map (_ * 3) mkString \" \")\n",
    "\n",
    "val rangeExample1 = List.range(10,20)\n",
    "val rangeExample2 = List.range(13,18)\n",
    "println(rangeExample1 diff rangeExample2 mkString \" \")\n",
    "\n",
    "val stringExample = \"My name is alex!\"\n",
    "println(stringExample.substring(0,4))\n",
    "println(stringExample.map((c) => c.toUpper))\n",
    "println(stringExample.replaceAll(\"a\", \"4\"))\n",
    "\n",
    "val vectorExample = Vector(1, 2, 3)\n",
    "println(vectorExample updated (2, 4))\n",
    "println(vectorExample ++ Vector(Range(90,95) toSeq: _*))\n",
    "\n",
    "val buffSize = 10\n",
    "val arrayBufferExample = new ArrayBuffer[Int](10)\n",
    "arrayBufferExample ++= { for { i <- Range(0,10) } yield scala.util.Random.nextInt(100) }\n",
    "println(arrayBufferExample)\n",
    "println(arrayBufferExample += 1)\n",
    "println(arrayBufferExample.filter(_ > 50))\n",
    "\n",
    "val queueExample = new Queue[String]\n",
    "println(queueExample ++= List(\"b\", \"c\"))\n",
    "println(queueExample.dequeue)\n",
    "\n",
    "val stackExample = new Stack[String] \n",
    "Seq(\"This\", \"is\", \"a\", \"Sentence\") foreach { (e) => stackExample.push(e) }\n",
    "println(stackExample.top)\n",
    "for (n <- stackExample) {print(s\"$n \")}\n",
    "println()\n",
    "\n",
    "val setExample = Set[Int]()\n",
    "println(setExample ++= List.fill(10)(scala.util.Random.nextInt(20)).toSet)\n",
    "println(setExample ++= List.fill(10)(scala.util.Random.nextInt(20)).toSet)\n",
    "println(setExample ++= List.fill(10)(scala.util.Random.nextInt(20)).toSet)\n",
    "\n",
    "val mapExample = HashMap[String, Int]()\n",
    "println(mapExample ++= List((\"potato\" -> 10), (\"tomato\" -> 3), (\"apple\" -> 7)))\n",
    "println(mapExample.keysIterator.exists(_.contains(\"le\")))"
   ]
  },
  {
   "cell_type": "markdown",
   "metadata": {},
   "source": [
    "## Streams\n",
    "\n",
    "In this next section we will seperate streams from everything else"
   ]
  },
  {
   "cell_type": "code",
   "execution_count": 5,
   "metadata": {},
   "outputs": [
    {
     "name": "stdout",
     "output_type": "stream",
     "text": [
      "Stream(1, ?)\n",
      "1, 2, 3, 4, 5, 6, 7, 8, 9, 10, 11, 12, 13, 14, 15, 16, 17, 18, 19, 20, empty\n",
      "c, y, t, G, L, D, f, T, 0, 1, empty\n"
     ]
    },
    {
     "data": {
      "text/plain": [
       "null"
      ]
     },
     "execution_count": 5,
     "metadata": {},
     "output_type": "execute_result"
    }
   ],
   "source": [
    "val stream = 1 #:: 2 #:: 3 #:: Stream.empty\n",
    "println(stream)\n",
    "\n",
    "def inifiniteNumberStream(number: Int): Stream[Int] = \n",
    "    Stream.cons(number, inifiniteNumberStream(number + 1))\n",
    "inifiniteNumberStream(1).take(20).print\n",
    "println()\n",
    "\n",
    "def charStream(): Stream[Char] = \n",
    "    Stream.cons(scala.util.Random.alphanumeric(1), charStream())\n",
    "charStream().take(10).print\n",
    "println()"
   ]
  },
  {
   "cell_type": "code",
   "execution_count": 8,
   "metadata": {},
   "outputs": [
    {
     "data": {
      "text/plain": [
       "yDwshDALhZ"
      ]
     },
     "execution_count": 8,
     "metadata": {},
     "output_type": "execute_result"
    }
   ],
   "source": [
    "def randomAlpha(length: Int): String = {\n",
    "    val chars = ('a' to 'z') ++ ('A' to 'Z')\n",
    "    randomStringFromCharList(length, chars)\n",
    "  }\n",
    "\n",
    "def randomStringFromCharList(length: Int, chars: Seq[Char]): String = {\n",
    "    val sb = new StringBuilder\n",
    "    for (i <- 1 to length) {\n",
    "        val randomNum = util.Random.nextInt(chars.length)\n",
    "        sb.append(chars(randomNum))\n",
    "    }\n",
    "    sb.toString\n",
    "}\n",
    "\n",
    "randomAlpha(10)"
   ]
  },
  {
   "cell_type": "code",
   "execution_count": null,
   "metadata": {},
   "outputs": [],
   "source": []
  }
 ],
 "metadata": {
  "kernelspec": {
   "display_name": "Scala",
   "language": "scala",
   "name": "scala"
  },
  "language_info": {
   "codemirror_mode": "text/x-scala",
   "file_extension": ".scala",
   "mimetype": "",
   "name": "Scala",
   "nbconverter_exporter": "",
   "version": "2.11.12"
  },
  "toc": {
   "base_numbering": 1,
   "nav_menu": {},
   "number_sections": false,
   "sideBar": false,
   "skip_h1_title": false,
   "title_cell": "Table of Contents",
   "title_sidebar": "Contents",
   "toc_cell": false,
   "toc_position": {},
   "toc_section_display": false,
   "toc_window_display": false
  }
 },
 "nbformat": 4,
 "nbformat_minor": 2
}
